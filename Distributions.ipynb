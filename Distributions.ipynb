{
 "cells": [
  {
   "cell_type": "markdown",
   "metadata": {},
   "source": [
    "# 1. Discrete distributions\n",
    "## 1.1. Mean and variance\n",
    "Mean:\n",
    "$$\\mu=E[X]=\\sum_k P(X=k)k$$\n",
    "Variance:\n",
    "$$\\sigma^2=var[X]=E[(X-E[X])^2]=\\sum_k P(X=k)(k-\\mu)^2$$\n",
    "Standard deviation:\n",
    "$$\\sigma[X]=\\sqrt{var[E]}=\\sqrt{\\sum_k P(X=k)(k-\\mu)^2}$$\n",
    "Coefficient of variation:\n",
    "$$\n",
    "c_v=\\frac{\\sigma}{\\mu}\n",
    "$$\n",
    "A corollary:\n",
    "$$\n",
    "E[X^2]=\\sum_k P(X=k)k^2=\\sum_k P(X=k)(k-\\mu)^2+2\\mu\\sum_k P(X=k)k-\\mu^2\\sum_k P(X=k)=$$\n",
    "$$\\sigma^2+2\\mu^2-\\mu^2=\\mu^2+\\sigma^2.$$"
   ]
  },
  {
   "cell_type": "markdown",
   "metadata": {},
   "source": [
    "## 1.2. Bernoulli distribution\n",
    "Flipping a coin or any other random event happening with a probability $p$:\n",
    "$$\n",
    "Bern(X=1|p)=p\n",
    "$$$$\n",
    "Bern(X=0|p)=1-p\n",
    "$$$$\n",
    "\\mu=E[X]=1\\cdot Bern(X=1|p)+0\\cdot Bern(X=0|p)=p\n",
    "$$$$\n",
    "\\sigma=\\sqrt{(1-\\mu)^2 Bern(X=1|p)+(0-\\mu)^2 Bern(X=0|p)}=\\sqrt{(1-p)^2+p^2(1-p)}=\\sqrt{p(1-p)}.\n",
    "$$"
   ]
  },
  {
   "cell_type": "code",
   "execution_count": 2,
   "metadata": {
    "collapsed": false
   },
   "outputs": [],
   "source": [
    "import numpy as np\n",
    "from numpy import random\n",
    "from scipy import stats\n",
    "import matplotlib.pyplot as plt"
   ]
  },
  {
   "cell_type": "code",
   "execution_count": 3,
   "metadata": {
    "collapsed": false
   },
   "outputs": [
    {
     "name": "stdout",
     "output_type": "stream",
     "text": [
      "[1 1 1 0 1 1 0 1 0 1 0 1 0 0 0 0 0 0 0 1 0 1 1 1 0]\n"
     ]
    },
    {
     "data": {
      "text/plain": [
       "12"
      ]
     },
     "execution_count": 3,
     "metadata": {},
     "output_type": "execute_result"
    }
   ],
   "source": [
    "random.seed(2015)\n",
    "sample = stats.bernoulli.rvs(p = 0.5, size = 25)\n",
    "print(sample)\n",
    "sum(sample)"
   ]
  },
  {
   "cell_type": "markdown",
   "metadata": {},
   "source": [
    "## 1.3. Binomial distribution\n",
    "Number of successes of a series of random events\n",
    "$$\n",
    "Bin(X=k|n,p)=C^k_n p^k (1-p)^{n-k},\n",
    "$$$$\n",
    "C^k_n=\\frac{n!}{(n-k)!k!}\n",
    "$$$$\n",
    "\\mu=E[X]=pn\n",
    "$$$$\n",
    "\\sigma[X]=\\sqrt{np(1-p)}\n",
    "$$"
   ]
  },
  {
   "cell_type": "code",
   "execution_count": 4,
   "metadata": {
    "collapsed": false
   },
   "outputs": [
    {
     "name": "stdout",
     "output_type": "stream",
     "text": [
      "0.154981017113\n"
     ]
    }
   ],
   "source": [
    "print(stats.binom.pmf(12, p=0.5, n=25))"
   ]
  },
  {
   "cell_type": "code",
   "execution_count": 5,
   "metadata": {
    "collapsed": false,
    "scrolled": false
   },
   "outputs": [
    {
     "name": "stdout",
     "output_type": "stream",
     "text": [
      "Populating the interactive namespace from numpy and matplotlib\n"
     ]
    },
    {
     "name": "stderr",
     "output_type": "stream",
     "text": [
      "WARNING: pylab import has clobbered these variables: ['sample']\n",
      "`%matplotlib` prevents importing * from pylab and numpy\n"
     ]
    },
    {
     "data": {
      "text/plain": [
       "<Container object of 25 artists>"
      ]
     },
     "execution_count": 5,
     "metadata": {},
     "output_type": "execute_result"
    },
    {
     "data": {
      "image/png": "[encoded data removed]",
      "text/plain": [
       "<matplotlib.figure.Figure at 0x15ae63c8>"
      ]
     },
     "metadata": {},
     "output_type": "display_data"
    }
   ],
   "source": [
    "%pylab inline\n",
    "plt.figure(figsize = (10,5))\n",
    "k=range(1,26)\n",
    "plt.bar(k,stats.binom.pmf(k, p=0.5, n=25))"
   ]
  },
  {
   "cell_type": "markdown",
   "metadata": {},
   "source": [
    "## 1.4. Poisson distribution\n",
    "Number of events happening with a certain frequency $\\lambda$ (like device failures, crime, disasters)\n",
    "$$\n",
    "Poi(X=k|\\lambda)=e^{-\\lambda}\\frac{\\lambda^k}{k!}\n",
    "$$$$\n",
    "E[X]=var[X]=\\lambda=\\mu=\\sigma^2\n",
    "$$"
   ]
  },
  {
   "cell_type": "markdown",
   "metadata": {},
   "source": [
    "Example: Murder rate in Newark is known to be 40 per 100.000 people per year"
   ]
  },
  {
   "cell_type": "code",
   "execution_count": 6,
   "metadata": {
    "collapsed": false
   },
   "outputs": [
    {
     "data": {
      "text/plain": [
       "<Container object of 200 artists>"
      ]
     },
     "execution_count": 6,
     "metadata": {},
     "output_type": "execute_result"
    },
    {
     "data": {
      "image/png": "[encoded data removed]",
      "text/plain": [
       "<matplotlib.figure.Figure at 0x15ae6080>"
      ]
     },
     "metadata": {},
     "output_type": "display_data"
    }
   ],
   "source": [
    "plt.figure()\n",
    "k=range(0,200)\n",
    "plt.bar(k,stats.poisson.pmf(k, mu=40.0/100000*280000))"
   ]
  },
  {
   "cell_type": "markdown",
   "metadata": {},
   "source": [
    "Example: 25 named hurricanes hit Bermuda during 22 years from 1991 till 2012. Given this statistics, what is the probability of getting 3 hurricanes during the same year (it actually happened in 1998)?"
   ]
  },
  {
   "cell_type": "code",
   "execution_count": null,
   "metadata": {
    "collapsed": false
   },
   "outputs": [],
   "source": [
    "plt.figure()\n",
    "k=range(0,7)\n",
    "plt.bar(k,stats.poisson.pmf(k, mu=25.0/22))\n",
    "print(stats.poisson.pmf(3, mu=25.0/22))"
   ]
  },
  {
   "cell_type": "markdown",
   "metadata": {},
   "source": [
    "# 2. Continous distributions\n",
    "\n",
    "## 2.1. Mean and variance, quantiles\n",
    "\n",
    "Mean:\n",
    "$$\n",
    "\\mu=E[X]=\\int\\limits_x x p(x)dx=\\int x d P\n",
    "$$\n",
    "Variance:\n",
    "$$\n",
    "\\sigma^2=var[X]=E[(X-E[X])^2]=\\int\\limits_x (x-\\mu)^2 p(x)dx\n",
    "$$\n",
    "Quantile:\n",
    "$$\n",
    "x_\\alpha=F^{-1}(\\alpha); P(X\\leq x_\\alpha)=\\alpha\n",
    "$$\n",
    "$$\n",
    "E[X+Y]=E[X]+E[Y]\n",
    "$$$$\n",
    "E[qX]=qE[X]; var[qX]=q^2 var[X].\n",
    "$$\n",
    "The following holds for independent variables X and Y only (i.e. $P(Y=y|X=x)=P(Y=y)$)\n",
    "$$\n",
    "var[X+Y]=var[X]+var[Y], \\sigma[X+Y]=\\sqrt{\\sigma[X]^2+\\sigma[Y]^2}.\n",
    "$$$$\n",
    "E[XY]=E[X]E[Y]\n",
    "$$"
   ]
  },
  {
   "cell_type": "markdown",
   "metadata": {},
   "source": [
    "## 2.2. Uniform distribution\n",
    "\n",
    "Random variable uniformly distributed over a certain interval\n",
    "$$\n",
    "Unif(x|a,b)=\\frac{1}{b-a} I(a\\leq x\\leq b)\n",
    "$$\n",
    "$$\n",
    "\\mu=E[X]=\\frac{a+b}{2}\n",
    "$$$$\n",
    "\\sigma[X]=\\frac{(b-a)}{2\\sqrt{3}}\n",
    "$$"
   ]
  },
  {
   "cell_type": "code",
   "execution_count": 7,
   "metadata": {
    "collapsed": false
   },
   "outputs": [
    {
     "data": {
      "text/plain": [
       "(0, 1.1)"
      ]
     },
     "execution_count": 7,
     "metadata": {},
     "output_type": "execute_result"
    },
    {
     "data": {
      "image/png": "[encoded data removed]",
      "text/plain": [
       "<matplotlib.figure.Figure at 0x16297400>"
      ]
     },
     "metadata": {},
     "output_type": "display_data"
    },
    {
     "data": {
      "image/png": "[encoded data removed]",
      "text/plain": [
       "<matplotlib.figure.Figure at 0x177a0710>"
      ]
     },
     "metadata": {},
     "output_type": "display_data"
    }
   ],
   "source": [
    "plt.figure()\n",
    "x=np.array(range(0,500))*0.01\n",
    "a=2\n",
    "b=4\n",
    "w=b-a\n",
    "plt.title('PDF of a uniform distribution')\n",
    "plt.plot(x,stats.uniform.pdf(x,a,w))\n",
    "plt.ylim([0,0.6])\n",
    "plt.figure()\n",
    "plt.title('CDF of a uniform distribution')\n",
    "plt.plot(x,stats.uniform.cdf(x,a,w))\n",
    "plt.ylim([0,1.1])"
   ]
  },
  {
   "cell_type": "markdown",
   "metadata": {},
   "source": [
    "## 2.3. Normal distribution\n",
    "\n",
    "A very common continous distribution - happens to represent a number of real-world processes (physics, biology, sociology, economics etc): characteristics of people and animals, errors of astronomical observations, income etc.\n",
    "\n",
    "### Central limit theorem: \n",
    "a sample average $\\overline{X}=\\frac{\\sum\\limits_i X_i}{N}$ of a random sample of N instances ${X_1,X_2,...,X_N}$ of a random variable $X$ ($E[X]=\\mu$, $std[X]=\\sigma$) has a distribution close to normal ${\\cal N}(\\overline{X}|\\mu,\\sigma^2/N)$ for large $N$. \n",
    "\n",
    "Rigorously\n",
    "$$\n",
    "\\sqrt{N}(\\overline{X}-\\mu)\\to {\\cal N}(0,\\sigma^2),\n",
    "$$\n",
    "while $N\\to\\infty$.\n",
    "\n",
    "Probability density function:\n",
    "$$\n",
    "{\\cal N}(X=x|\\mu,\\sigma^2)=\\phi(x|\\mu,\\sigma^2)=\\frac{1}{\\sqrt{2\\pi}\\sigma}e^{-\\frac{(x-\\mu)^2}{2\\sigma^2}}\n",
    "$$\n",
    "\n",
    "Cumulative distribution function\n",
    "$$\n",
    "\\Phi(x|\\mu,\\sigma^2)=\\int\\limits_{-\\infty}^x \\frac{1}{\\sqrt{2\\pi}\\sigma}e^{-\\frac{(t-\\mu)^2}{2\\sigma^2}}dt\n",
    "$$\n"
   ]
  },
  {
   "cell_type": "code",
   "execution_count": 8,
   "metadata": {
    "collapsed": false
   },
   "outputs": [
    {
     "data": {
      "text/plain": [
       "(0, 1.1)"
      ]
     },
     "execution_count": 8,
     "metadata": {},
     "output_type": "execute_result"
    },
    {
     "data": {
      "image/png": "[encoded data removed]",
      "text/plain": [
       "<matplotlib.figure.Figure at 0x17900d68>"
      ]
     },
     "metadata": {},
     "output_type": "display_data"
    },
    {
     "data": {
      "image/png": "[encoded data removed]",
      "text/plain": [
       "<matplotlib.figure.Figure at 0x17bac320>"
      ]
     },
     "metadata": {},
     "output_type": "display_data"
    }
   ],
   "source": [
    "plt.figure()\n",
    "x=np.array(range(0,1000))*0.01\n",
    "mu=5\n",
    "sigma=1\n",
    "plt.title('PDF of a normal distribution')\n",
    "plt.plot(x,stats.norm.pdf(x,mu,sigma))\n",
    "plt.axvline(5, color='r', ls='--', lw=2.0)\n",
    "plt.ylim([0,0.45])\n",
    "plt.figure()\n",
    "plt.title('CDF of a normal distribution')\n",
    "plt.plot(x,stats.norm.cdf(x,mu,sigma))\n",
    "plt.ylim([0,1.1])"
   ]
  },
  {
   "cell_type": "markdown",
   "metadata": {},
   "source": [
    "In many real-world cases not the quantity considered but rather its logarithm happens to be distributed normally (e.g. activity of customers, population of cities etc)\n",
    "### lognormal distribution: \n",
    "$log(X)\\sim {\\cal N}(\\mu,\\sigma^2)$"
   ]
  },
  {
   "cell_type": "code",
   "execution_count": 9,
   "metadata": {
    "collapsed": false
   },
   "outputs": [
    {
     "data": {
      "text/plain": [
       "(0, 1.1)"
      ]
     },
     "execution_count": 9,
     "metadata": {},
     "output_type": "execute_result"
    },
    {
     "data": {
      "image/png": "[encoded data removed]",
      "text/plain": [
       "<matplotlib.figure.Figure at 0x17c2d710>"
      ]
     },
     "metadata": {},
     "output_type": "display_data"
    },
    {
     "data": {
      "image/png": "[encoded data removed]",
      "text/plain": [
       "<matplotlib.figure.Figure at 0x17f84470>"
      ]
     },
     "metadata": {},
     "output_type": "display_data"
    }
   ],
   "source": [
    "plt.figure()\n",
    "x=np.array(range(1,2000))*1.0\n",
    "mu=5\n",
    "sigma=1\n",
    "plt.title('PDF of a normal distribution')\n",
    "plt.plot(x,stats.norm.pdf(log(x),mu,sigma))\n",
    "plt.axvline(exp(mu), color='r', ls='--', lw=2.0)\n",
    "plt.ylim([0,0.45])\n",
    "plt.figure()\n",
    "plt.title('CDF of a normal distribution')\n",
    "plt.plot(x,stats.norm.cdf(log(x),mu,sigma))\n",
    "plt.ylim([0,1.1])"
   ]
  },
  {
   "cell_type": "markdown",
   "metadata": {},
   "source": [
    "## 2.4. Other useful distributions\n",
    "\n",
    "### Logistic distribution\n",
    "\n",
    "Probability Density Function\n",
    "$Logist(X=x)=F^\\prime(x)=\\displaystyle{\\frac{\\exp(-x)}{1+\\exp(-x)}}$\n",
    "\n",
    "Cumulative Density Function\n",
    "$F(x)=\\displaystyle{\\frac{1}{1+\\exp(-x)}}$\n",
    "\n",
    "$$\n",
    "\\mu=E[X]=0, \\sigma[X]=\\pi/\\sqrt{3}.\n",
    "$$\n",
    "\n",
    "### Exponential distribution\n",
    "\n",
    "Probability Density Function\n",
    "$$\n",
    "Exp(X=x|\\lambda)=\\left\\{\\begin{array}{ll}\\lambda e^{-\\lambda x}, & x\\geq 0\\\\0,& x<0 \\end{array}\\right.\n",
    "$$\n",
    "\n",
    "Cumulative Density Function\n",
    "$$\n",
    "F(x)=\\left\\{\\begin{array}{ll}1-e^{-\\lambda x}, & x\\geq 0\\\\0, & x<0\\end{array}\\right.\n",
    "$$\n",
    "\n",
    "$$\n",
    "\\mu=E[X]=\\sigma[X]=1/\\lambda\n",
    "$$\n",
    "\n",
    "### Gamma, Beta, Laplace, Pareto..."
   ]
  },
  {
   "cell_type": "markdown",
   "metadata": {},
   "source": [
    "# 3. Correlation\n",
    "\n",
    "Covarience:\n",
    "$$\n",
    "cov(X,Y)=E[(X-E[X])(Y-E[Y])]\n",
    "$$\n",
    "Pearson’s correlation coefficient:\n",
    "$$\n",
    "corr(X,Y)=\\frac{cov(X,Y)}{\\sigma[X] \\sigma[Y]} \n",
    "$$"
   ]
  },
  {
   "cell_type": "code",
   "execution_count": null,
   "metadata": {
    "collapsed": false
   },
   "outputs": [],
   "source": [
    "from scipy.stats.stats import pearsonr\n",
    "random.seed(2015)\n",
    "x=stats.uniform.rvs(0,1,100)\n",
    "y=x+stats.uniform.rvs(0,1,100)\n",
    "corr=pearsonr(x,y)[0]\n",
    "print('Correlation={0}'.format(corr))\n",
    "plt.figure()\n",
    "plt.plot(x,y,'og')\n",
    "plt.xlabel('x')\n",
    "plt.ylabel('y')"
   ]
  },
  {
   "cell_type": "markdown",
   "metadata": {},
   "source": [
    "# 4. Optimization\n",
    "\n",
    "Consider several points on the map\n"
   ]
  },
  {
   "cell_type": "code",
   "execution_count": null,
   "metadata": {
    "collapsed": false
   },
   "outputs": [],
   "source": [
    "random.seed(2015)\n",
    "x=stats.uniform.rvs(0,10,20)\n",
    "y=stats.uniform.rvs(0,10,20)\n",
    "plt.figure()\n",
    "plt.plot(x,y,'go')\n",
    "plt.xlim(0,10)\n",
    "plt.ylim(0,10)"
   ]
  },
  {
   "cell_type": "markdown",
   "metadata": {},
   "source": [
    "and look for a such a location that sum of square distances from it to the given points is minimal:\n",
    "$$\n",
    "\\sum\\limits_i \\left[(x_i-x^*)^2+(y_i-y^*)^2\\right]\\to min\n",
    "$$"
   ]
  },
  {
   "cell_type": "code",
   "execution_count": null,
   "metadata": {
    "collapsed": false
   },
   "outputs": [],
   "source": [
    "from scipy.optimize import minimize\n",
    "\n",
    "def f(params):\n",
    "    x0=params[0]\n",
    "    y0=params[1]\n",
    "    return sum(np.square(x-x0))+sum(np.square(y-y0))\n",
    "\n",
    "plt.figure()\n",
    "plt.plot(x,y,'go')\n",
    "plt.xlim(0,10)\n",
    "plt.ylim(0,10)\n",
    "prevpoint=[0, 1];\n",
    "\n",
    "def visiter(params):\n",
    "    global prevpoint\n",
    "    plt.plot([prevpoint[0],params[0]],[prevpoint[1],params[1]],'b:o')\n",
    "    plt.plot(params[0],params[1],'ro')\n",
    "    prevpoint=params\n",
    "    print(params)\n",
    "    \n",
    "    \n",
    "\n",
    "minimize(f, prevpoint, method='TNC', options={'disp': True}, callback=visiter)"
   ]
  },
  {
   "cell_type": "markdown",
   "metadata": {},
   "source": [
    "Optimization problem:\n",
    "$$\n",
    "argmax_X F(x)\\to min\n",
    "$$\n",
    "\n",
    "Common family of iterative optimization methods is known as \"gradient descent\":\n",
    "$$\n",
    "x^{j+1}=x^j-\\lambda_j \\triangledown F(x^j),\n",
    "$$\n",
    "\n",
    "where $\\lambda_j$ are certain real numbers picked up with respect to $F(x^{j+1})<F(x^j)$.\n",
    "\n",
    "Although specifically for the problem above a more streighforward analytic solution is available."
   ]
  },
  {
   "cell_type": "markdown",
   "metadata": {},
   "source": [
    "### Quantiles - optimization example\n",
    "\n",
    "Consider a protective dumb construction problem. Let maximal hight of a storm surge ecountered per period of damb usage to be a normally distributed random value $H\\sim {\\cal N}(10,3^2)$, ft, a cost of a protective damb erection depend on its hight $h$ as $C(h)=\\$10M+\\$1M\\cdot h^2$ while expected amount of loss is damb protective capacity is exceeded - $L=\\$1B$. What is the optimal hight $h^*$ of the damb and how reliable this dumb should be? \n",
    "\n",
    "Let $\\alpha$ be a reliability of the damb, i.e. $1-\\alpha$ be a probability of its failure. Then $h^*(alpha)=\\Phi^{-1}(\\alpha|10,3^2)$, average expectation for the loss is $(1-\\alpha) L$, while cost of the damb erection is $C(h^*)$. Then optimal hight should minimize the total expence estimated as\n",
    "$$\n",
    "C(h^*(\\alpha))+(1-\\alpha) L\\to min\n",
    "$$"
   ]
  },
  {
   "cell_type": "code",
   "execution_count": null,
   "metadata": {
    "collapsed": false
   },
   "outputs": [],
   "source": [
    "def C(h):\n",
    "    return 10+power(h,2)\n",
    "\n",
    "def h(a):\n",
    "    return stats.norm.ppf(a,10,3)\n",
    "\n",
    "def total(a):\n",
    "    return C(h(a))+(1-a)*1000\n",
    "\n",
    "x=np.array(range(0,1000))*0.001\n",
    "y=map(total,x)\n",
    "plt.figure(figsize = (15,5))\n",
    "plt.title('Total expence estimate vs damb reliability')\n",
    "plt.plot(x,y)\n",
    "y=map(total,x)\n",
    "print('alpha={0}'.format(a0))\n",
    "print('h*={0}'.format(h(a0)))\n",
    "plt.axvline(a0, color='r', ls='--', lw=2.0)\n"
   ]
  }
 ],
 "metadata": {
  "kernelspec": {
   "display_name": "Python 2",
   "language": "python",
   "name": "python2"
  },
  "language_info": {
   "codemirror_mode": {
    "name": "ipython",
    "version": 2
   },
   "file_extension": ".py",
   "mimetype": "text/x-python",
   "name": "python",
   "nbconvert_exporter": "python",
   "pygments_lexer": "ipython2",
   "version": "2.7.9"
  }
 },
 "nbformat": 4,
 "nbformat_minor": 0
}
