{
 "cells": [
  {
   "cell_type": "markdown",
   "metadata": {},
   "source": [
    "# Creating Train/Test Splits in Python\n",
    "\n",
    "We may want to partition dataframes into training and test samples.  A training sample would be used to train an algorithm.  A test sample would be used to evaluate the performance of an algorithm.  In the examples below, the training sample will be **2/3rds** of the data, and the test sample will be remaining **1/3rd** of the data.  "
   ]
  },
  {
   "cell_type": "code",
   "execution_count": 2,
   "metadata": {
    "collapsed": false
   },
   "outputs": [
    {
     "name": "stdout",
     "output_type": "stream",
     "text": [
      "Populating the interactive namespace from numpy and matplotlib\n"
     ]
    }
   ],
   "source": [
    "# Load relevant libraries.\n",
    "\n",
    "%pylab inline\n",
    "import matplotlib.pyplot as plt\n",
    "import numpy as np\n",
    "import pandas as pd\n",
    "import statsmodels.api as sm\n",
    "import statsmodels.formula.api as smf\n",
    "from statsmodels.graphics.api import abline_plot\n",
    "import patsy\n",
    "import seaborn as sns\n",
    "sns.set(context='notebook', style='whitegrid', palette='deep', font='sans-serif', font_scale=1, rc=None)\n",
    "import sklearn as skl"
   ]
  },
  {
   "cell_type": "code",
   "execution_count": 4,
   "metadata": {
    "collapsed": false
   },
   "outputs": [
    {
     "name": "stdout",
     "output_type": "stream",
     "text": [
      "<class 'pandas.core.frame.DataFrame'>\n",
      "RangeIndex: 4601 entries, 0 to 4600\n",
      "Data columns (total 11 columns):\n",
      "v57    4601 non-null int64\n",
      "v1     4601 non-null float64\n",
      "v2     4601 non-null float64\n",
      "v3     4601 non-null float64\n",
      "v4     4601 non-null float64\n",
      "v5     4601 non-null float64\n",
      "v6     4601 non-null float64\n",
      "v7     4601 non-null float64\n",
      "v8     4601 non-null float64\n",
      "v9     4601 non-null float64\n",
      "v10    4601 non-null float64\n",
      "dtypes: float64(10), int64(1)\n",
      "memory usage: 395.5 KB\n",
      "None\n",
      "count    4601.000000\n",
      "mean        0.394045\n",
      "std         0.488698\n",
      "min         0.000000\n",
      "25%         0.000000\n",
      "50%         0.000000\n",
      "75%         1.000000\n",
      "max         1.000000\n",
      "Name: v57, dtype: float64\n"
     ]
    }
   ],
   "source": [
    "# Spam database.\n",
    "\n",
    "target_url = (\"https://archive.ics.uci.edu/ml/machine-learning-databases/\"\n",
    "              \"spambase/spambase.data\")\n",
    "\n",
    "spam = pd.read_csv(\"spam.csv\")\n",
    "print(spam.info())\n",
    "print(spam['v57'].describe())"
   ]
  },
  {
   "cell_type": "markdown",
   "metadata": {
    "collapsed": false
   },
   "source": [
    "## METHOD ONE\n",
    "\n",
    "Every observation in a structured dataframe has an observation number.  The modulus of the observation number divided by three is either 0 or non-0.  When the modulus is 0, the observation is a test observation.  When the modulus is non-0, the observation is a training observation."
   ]
  },
  {
   "cell_type": "code",
   "execution_count": 6,
   "metadata": {
    "collapsed": false
   },
   "outputs": [
    {
     "name": "stdout",
     "output_type": "stream",
     "text": [
      "3067\n",
      "1534\n",
      "4601\n"
     ]
    }
   ],
   "source": [
    "spam['index'] = range(len(spam))\n",
    "\n",
    "# In Python, the % indicates modulus.\n",
    "spam['index'] = spam['index'] % 3\n",
    "spam['test'] = pd.get_dummies(spam['index'] == 1)[1]\n",
    "\n",
    "# We don't need the index, so drop it.\n",
    "del spam['index']\n",
    "\n",
    "# Now we can create new train and test dataframes.\n",
    "# Note the format of these lines code.\n",
    "# It basically resolves as create spamtest as a subset of spam when test is 1.\n",
    "# Otherwise, it is train.\n",
    "spamtrain = spam[spam['test'] == 0]\n",
    "spamtest = spam[spam['test'] == 1]\n",
    "\n",
    "# Confirm data has been split properly.\n",
    "print(spamtrain['v57'].count())\n",
    "print(spamtest['v57'].count())\n",
    "print(spam['v57'].count())"
   ]
  },
  {
   "cell_type": "markdown",
   "metadata": {},
   "source": [
    "## METHOD TWO\n",
    "\n",
    "Generate a uniform[0, 1] draw for every observation in the dataframe.  Flagging those observations with a uniform draw less than 1/3 identifies the test sample.  The remaining data would be the training sample."
   ]
  },
  {
   "cell_type": "code",
   "execution_count": 8,
   "metadata": {
    "collapsed": false
   },
   "outputs": [
    {
     "name": "stdout",
     "output_type": "stream",
     "text": [
      "3056\n",
      "1545\n",
      "4601\n"
     ]
    }
   ],
   "source": [
    "seed(12345)\n",
    "spam['index'] = np.random.uniform(low = 0, high = 1, size = len(spam))\n",
    "spam['test'] = pd.get_dummies(spam['index'] <= 0.3333)[1]\n",
    "\n",
    "# We don't need the index, so drop it.\n",
    "del spam['index']\n",
    "\n",
    "# Now we can create new train and test dataframes.\n",
    "# Note the format of these command lines.\n",
    "# It basically resolves as create spamtest as a subset of spam when test is 1.\n",
    "# Otherwise, it is train.\n",
    "spamtrain = spam[spam['test'] == 0]\n",
    "spamtest = spam[spam['test'] == 1]\n",
    "\n",
    "# Confirm data has been split properly.\n",
    "print(spamtrain['v57'].count())\n",
    "print(spamtest['v57'].count())\n",
    "print(spam['v57'].count())"
   ]
  },
  {
   "cell_type": "markdown",
   "metadata": {},
   "source": [
    "## Method Three\n",
    "\n",
    "Ask pandas to do it."
   ]
  },
  {
   "cell_type": "code",
   "execution_count": 12,
   "metadata": {
    "collapsed": false
   },
   "outputs": [
    {
     "name": "stdout",
     "output_type": "stream",
     "text": [
      "3083\n",
      "1518\n",
      "4601\n"
     ]
    }
   ],
   "source": [
    "spamtrain = spam.sample(frac = 0.67, random_state = 1066)\n",
    "spamtest = spam.drop(spamtrain.index)\n",
    "\n",
    "# Confirm data has been split properly.\n",
    "print(spamtrain['v57'].count())\n",
    "print(spamtest['v57'].count())\n",
    "print(spam['v57'].count())"
   ]
  }
 ],
 "metadata": {
  "kernelspec": {
   "display_name": "Python [conda root]",
   "language": "python",
   "name": "conda-root-py"
  },
  "language_info": {
   "codemirror_mode": {
    "name": "ipython",
    "version": 3
   },
   "file_extension": ".py",
   "mimetype": "text/x-python",
   "name": "python",
   "nbconvert_exporter": "python",
   "pygments_lexer": "ipython3",
   "version": "3.5.2"
  }
 },
 "nbformat": 4,
 "nbformat_minor": 0
}
