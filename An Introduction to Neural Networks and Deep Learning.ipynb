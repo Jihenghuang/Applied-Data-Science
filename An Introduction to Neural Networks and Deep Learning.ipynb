{
 "cells": [
  {
   "cell_type": "markdown",
   "metadata": {},
   "source": [
    "# An Introduction to Neural Networks and Deep Learning"
   ]
  },
  {
   "cell_type": "markdown",
   "metadata": {},
   "source": [
    "## 1. Overview\n",
    "\n",
    "Because of their remarkable success in digital image processing, among other areas of data science, the origin of neural networks, the precusor to deep learning, is claimed by many disciplines and by many people.\n",
    "* The \"electronic brain\" and the neuroscience of the 1950's.\n",
    "* Computer science: Character recongition and the U.S. Postal Service. \n",
    "* Economics and finance: Let's make a million dollars!\n",
    "\n",
    "Like many approaches in data science, the technique has waxed and waned through the ages, seemingly rediscovered each time.\n",
    "\n",
    "Let's not focus on the past (despite my personal interest on the origin of algorithms).  Let's focus on the present.  Fortunately, we've already seen a simple example of a neural network: the logit classifier.\n",
    "* The logit classifier is a simple neural network: feed-forward MLP with one hidden layer.\n",
    "* A neural network builds on this simple concept by introducing many \"logits\" and tying them together with weights.\n",
    "* We estimated the $\\beta$'s of the logits via maximum likelihood.\n",
    "* We tie them with weights that we also esimate via maximum likelihood."
   ]
  },
  {
   "cell_type": "markdown",
   "metadata": {},
   "source": [
    "## 2. Digression: Slides on Neural Networks and Deep Learning\n",
    "\n",
    "### Computer science \n",
    "* Character recongition, the U.S. Postal Service, and Yann LeCun's famous MNIST data. \n",
    "* A Cambrian-like explosion since 2008.\n",
    "\n",
    "### Economics and finance \n",
    "* See, among others, see papers by Ron Gallant (UNC), George Tauchen (Duke), and Hal White (UCSD). \n",
    "* Seemingly died out, despite tremendous increase in ease of use. "
   ]
  },
  {
   "cell_type": "markdown",
   "metadata": {},
   "source": [
    "## 3. A Simple Multilayered Perceptron"
   ]
  },
  {
   "cell_type": "code",
   "execution_count": 1,
   "metadata": {
    "collapsed": true
   },
   "outputs": [],
   "source": [
    "# Import relevant libraries, including MXNET and Keras.\n",
    "\n",
    "%matplotlib inline\n",
    "#import mxnet as mx\n",
    "import matplotlib.pyplot as plt\n",
    "import numpy as np\n",
    "import os\n",
    "import urllib\n",
    "from urllib.request import urlretrieve\n",
    "import gzip\n",
    "import struct\n",
    "import pymc3 as pm"
   ]
  },
  {
   "cell_type": "code",
   "execution_count": 2,
   "metadata": {},
   "outputs": [
    {
     "name": "stderr",
     "output_type": "stream",
     "text": [
      "Using TensorFlow backend.\n"
     ]
    },
    {
     "data": {
      "image/png": "[encoded data removed]",
      "text/plain": [
       "<matplotlib.figure.Figure at 0x1058256d8>"
      ]
     },
     "metadata": {},
     "output_type": "display_data"
    },
    {
     "name": "stdout",
     "output_type": "stream",
     "text": [
      "Training labels: [5 0 4 1 9]\n"
     ]
    }
   ],
   "source": [
    "# Keras has the famous LeCun et al. MNIST dataset of handwritten characters.\n",
    "# One of the values of APIs like Keras and MXNET is they help to obviate webscapping.\n",
    "\n",
    "from keras.models import Sequential\n",
    "from keras.layers import Dense\n",
    "from keras.layers import Dropout\n",
    "from keras.utils import np_utils\n",
    "from keras.datasets import mnist\n",
    "\n",
    "(X_train, y_train), (X_test, y_test) = mnist.load_data()\n",
    "\n",
    "num_digits = 5\n",
    "for i in range(num_digits):\n",
    "    plt.subplot(1, num_digits, i+1)\n",
    "    plt.imshow(X_train[i], cmap=plt.get_cmap('gray'))\n",
    "    plt.axis('off')\n",
    "plt.show()\n",
    "print('Training labels: %s' % (y_train[0:num_digits],))"
   ]
  },
  {
   "cell_type": "code",
   "execution_count": 3,
   "metadata": {
    "collapsed": true
   },
   "outputs": [],
   "source": [
    "# Preprocess the NMIST data, which are stored as 28 X 28 pixels of grayscale between 1 and 255.\n",
    "\n",
    "num_pixels = X_train.shape[1] * X_train.shape[2]\n",
    "X_train_pp = (X_train.reshape(X_train.shape[0], num_pixels).astype('float32')) / 255\n",
    "X_test_pp = (X_test.reshape(X_test.shape[0], num_pixels).astype('float32')) / 255"
   ]
  },
  {
   "cell_type": "code",
   "execution_count": 4,
   "metadata": {},
   "outputs": [
    {
     "name": "stdout",
     "output_type": "stream",
     "text": [
      "[  0.00000000e+00   0.00000000e+00   0.00000000e+00   0.00000000e+00\n",
      "   0.00000000e+00   0.00000000e+00   0.00000000e+00   0.00000000e+00\n",
      "   0.00000000e+00   0.00000000e+00   0.00000000e+00   0.00000000e+00\n",
      "   8.23529444e-06   3.07189548e-05   1.41176470e-05   5.88235309e-07\n",
      "   0.00000000e+00   0.00000000e+00   0.00000000e+00   0.00000000e+00\n",
      "   0.00000000e+00   0.00000000e+00   0.00000000e+00   0.00000000e+00\n",
      "   0.00000000e+00   0.00000000e+00   0.00000000e+00   0.00000000e+00\n",
      "   0.00000000e+00   0.00000000e+00   0.00000000e+00   0.00000000e+00\n",
      "   1.04575167e-06   3.59477121e-06   3.64052321e-05   9.52287664e-05\n",
      "   1.71437932e-04   2.51372519e-04   4.71111096e-04   6.30326860e-04\n",
      "   6.83071790e-04   6.95817056e-04   7.42418168e-04   6.82941172e-04\n",
      "   7.33071880e-04   6.02549058e-04   3.92614427e-04   2.79346423e-04\n",
      "   2.11045743e-04   8.37908519e-05   3.95424831e-05   1.38562091e-05\n",
      "   0.00000000e+00   0.00000000e+00   0.00000000e+00   0.00000000e+00\n",
      "   0.00000000e+00   0.00000000e+00   4.18300669e-06   2.74509807e-06\n",
      "   2.72549005e-05   2.15032705e-05   1.84705874e-04   5.42745111e-04\n",
      "   1.03601289e-03   1.98673224e-03   3.39921541e-03   5.05914725e-03\n",
      "   7.33471336e-03   9.92135890e-03   1.25553627e-02   1.42178470e-02\n",
      "   1.45960050e-02   1.33041125e-02   1.09918909e-02   8.01718701e-03\n",
      "   4.71418118e-03   2.48411717e-03   1.16143795e-03   3.68562090e-04\n",
      "   1.38104588e-04   3.38562095e-05   0.00000000e+00   0.00000000e+00\n",
      "   0.00000000e+00   0.00000000e+00   1.26797386e-05   2.29411762e-05\n",
      "   4.71241874e-05   2.73594778e-04   8.31699290e-04   2.14156834e-03\n",
      "   4.52712318e-03   8.68980773e-03   1.42730512e-02   2.13255268e-02\n",
      "   2.90473178e-02   3.80265638e-02   4.66004871e-02   5.19114919e-02\n",
      "   5.14693111e-02   4.63276319e-02   3.74262482e-02   2.69139614e-02\n",
      "   1.64456759e-02   8.92013405e-03   4.16091131e-03   1.61986880e-03\n",
      "   6.35620905e-04   1.08888889e-04   1.09803923e-05   0.00000000e+00\n",
      "   0.00000000e+00   2.48366018e-06   2.04575190e-05   5.62745190e-05\n",
      "   3.17189581e-04   1.60869164e-03   4.09110449e-03   9.48739890e-03\n",
      "   1.87284406e-02   3.29193994e-02   5.21974191e-02   7.63820708e-02\n",
      "   1.06027000e-01   1.38087586e-01   1.64083153e-01   1.77462071e-01\n",
      "   1.73878461e-01   1.53496921e-01   1.22856699e-01   8.98981765e-02\n",
      "   5.81612028e-02   3.39663513e-02   1.78351719e-02   8.38046242e-03\n",
      "   3.38391936e-03   8.14706029e-04   1.16274517e-04   7.97385655e-06\n",
      "   0.00000000e+00   0.00000000e+00   4.04575148e-05   2.48431374e-04\n",
      "   1.55084906e-03   5.73882274e-03   1.40697276e-02   2.83444282e-02\n",
      "   5.10478318e-02   8.32083151e-02   1.23531953e-01   1.73359707e-01\n",
      "   2.30998009e-01   2.89431900e-01   3.33741754e-01   3.55298102e-01\n",
      "   3.48726690e-01   3.14440817e-01   2.58601993e-01   1.95271954e-01\n",
      "   1.34706154e-01   8.43535811e-02   4.85896543e-02   2.60358397e-02\n",
      "   1.17361583e-02   3.30849411e-03   5.55424776e-04   1.84313740e-05\n",
      "   0.00000000e+00   7.18954254e-07   1.07843145e-04   8.68365925e-04\n",
      "   4.39025601e-03   1.29015660e-02   2.91626696e-02   5.59000894e-02\n",
      "   9.46586132e-02   1.46230906e-01   2.08298177e-01   2.78093040e-01\n",
      "   3.50117028e-01   4.16607678e-01   4.64738339e-01   4.86671597e-01\n",
      "   4.77311879e-01   4.39356774e-01   3.76903176e-01   2.94770569e-01\n",
      "   2.11912900e-01   1.38481945e-01   8.23217779e-02   4.48725261e-02\n",
      "   2.11285185e-02   7.27679953e-03   1.46156782e-03   1.18823526e-04\n",
      "   3.07189543e-06   7.73856154e-05   4.22222336e-04   2.33588088e-03\n",
      "   9.06823669e-03   2.32500993e-02   4.87691425e-02   8.80471468e-02\n",
      "   1.42333925e-01   2.11368382e-01   2.89276600e-01   3.69036883e-01\n",
      "   4.37575459e-01   4.90208894e-01   5.20637095e-01   5.30990064e-01\n",
      "   5.22907853e-01   4.96785581e-01   4.45290297e-01   3.67630899e-01\n",
      "   2.73642778e-01   1.83660239e-01   1.10369399e-01   5.96122369e-02\n",
      "   2.75830701e-02   1.01295495e-02   2.01215688e-03   1.25032690e-04\n",
      "   1.59477131e-05   1.99281028e-04   1.29163370e-03   5.16607333e-03\n",
      "   1.46985380e-02   3.32686082e-02   6.59542903e-02   1.16069742e-01\n",
      "   1.84042126e-01   2.67089963e-01   3.54090035e-01   4.25404757e-01\n",
      "   4.68385041e-01   4.83909070e-01   4.82511818e-01   4.79777545e-01\n",
      "   4.81304795e-01   4.79006678e-01   4.55934972e-01   3.94558668e-01\n",
      "   3.03212225e-01   2.07443759e-01   1.24748357e-01   6.41481206e-02\n",
      "   2.81791277e-02   1.02220401e-02   1.88856234e-03   1.06601321e-04\n",
      "   1.90849678e-05   3.11633892e-04   2.00790795e-03   6.74267719e-03\n",
      "   1.74345523e-02   3.84575985e-02   7.65751451e-02   1.35314465e-01\n",
      "   2.14515492e-01   3.06427836e-01   3.88393760e-01   4.33738053e-01\n",
      "   4.34472203e-01   4.10022646e-01   3.88425738e-01   3.89764726e-01\n",
      "   4.09155250e-01   4.34841305e-01   4.35610354e-01   3.88818055e-01\n",
      "   3.02125126e-01   2.06692249e-01   1.23328328e-01   6.03640079e-02\n",
      "   2.33770423e-02   7.44301034e-03   1.37973810e-03   1.10653593e-04\n",
      "   2.61437908e-05   3.86535976e-04   2.05111038e-03   6.56698877e-03\n",
      "   1.68198869e-02   3.87313031e-02   8.05470943e-02   1.45840645e-01\n",
      "   2.34179229e-01   3.27058703e-01   3.93050849e-01   4.04591411e-01\n",
      "   3.68209630e-01   3.25308263e-01   3.11463952e-01   3.31473976e-01\n",
      "   3.68115872e-01   4.09526139e-01   4.16797787e-01   3.69503796e-01\n",
      "   2.81766206e-01   1.89481720e-01   1.11680299e-01   5.29343225e-02\n",
      "   1.80411972e-02   4.51019406e-03   8.69934447e-04   7.34640489e-05\n",
      "   2.32679758e-05   2.99607811e-04   1.65052316e-03   5.02104219e-03\n",
      "   1.42983384e-02   3.74665000e-02   8.28761980e-02   1.56293780e-01\n",
      "   2.51332998e-01   3.42003375e-01   3.87382567e-01   3.72035086e-01\n",
      "   3.20331067e-01   2.87620217e-01   2.98609585e-01   3.35004389e-01\n",
      "   3.81546050e-01   4.21509534e-01   4.13770795e-01   3.49141628e-01\n",
      "   2.54687339e-01   1.66656718e-01   9.93780047e-02   4.93345372e-02\n",
      "   1.56465899e-02   2.37071840e-03   4.88235295e-04   3.20261461e-05\n",
      "   1.49019615e-05   1.71307183e-04   9.49150475e-04   3.44633800e-03\n",
      "   1.20346425e-02   3.76764350e-02   8.93260762e-02   1.70884728e-01\n",
      "   2.70479649e-01   3.53954613e-01   3.83903563e-01   3.57194215e-01\n",
      "   3.12578738e-01   3.11254710e-01   3.50352168e-01   3.98887604e-01\n",
      "   4.43294466e-01   4.61114407e-01   4.21289980e-01   3.31451386e-01\n",
      "   2.29755476e-01   1.50054380e-01   9.30962041e-02   4.98518422e-02\n",
      "   1.68419927e-02   1.73823466e-03   3.12875811e-04   3.98692864e-05\n",
      "   2.09150335e-06   7.15686328e-05   4.80849645e-04   2.38169776e-03\n",
      "   1.14424760e-02   4.17028591e-02   1.00212209e-01   1.86605260e-01\n",
      "   2.84835696e-01   3.59511435e-01   3.79962355e-01   3.57250899e-01\n",
      "   3.40659887e-01   3.80266219e-01   4.36761588e-01   4.86178249e-01\n",
      "   5.09059727e-01   4.96483505e-01   4.26991701e-01   3.18270087e-01\n",
      "   2.16574207e-01   1.45901605e-01   9.40120593e-02   5.35054170e-02\n",
      "   2.00104993e-02   2.29294016e-03   3.25424859e-04   4.26143815e-05\n",
      "   7.38562085e-06   3.23529457e-05   2.12418279e-04   1.82816933e-03\n",
      "   1.20219002e-02   4.84366976e-02   1.11876264e-01   1.98074833e-01\n",
      "   2.89222211e-01   3.54395598e-01   3.72857898e-01   3.65841955e-01\n",
      "   3.83648634e-01   4.52643126e-01   5.10863721e-01   5.47285795e-01\n",
      "   5.37663102e-01   5.02309680e-01   4.19595063e-01   3.11979413e-01\n",
      "   2.19988018e-01   1.52719364e-01   1.00148045e-01   5.73191382e-02\n",
      "   2.24375818e-02   3.21686221e-03   3.62549064e-04   8.69281121e-06\n",
      "   2.87581702e-06   1.51633985e-05   1.76862755e-04   1.98267889e-03\n",
      "   1.39630139e-02   5.65029457e-02   1.21524230e-01   2.00824946e-01\n",
      "   2.80162901e-01   3.36210877e-01   3.58362585e-01   3.69583100e-01\n",
      "   4.11956131e-01   4.83166873e-01   5.32131791e-01   5.45543849e-01\n",
      "   5.16892135e-01   4.76233631e-01   3.97419721e-01   3.07373822e-01\n",
      "   2.28562668e-01   1.61770314e-01   1.05805494e-01   5.83949201e-02\n",
      "   2.28560381e-02   4.23359359e-03   5.81241737e-04   4.24836580e-05\n",
      "   2.61437913e-06   1.55555554e-05   2.91503267e-04   2.44300510e-03\n",
      "   1.75292883e-02   6.48198947e-02   1.27668217e-01   1.95864111e-01\n",
      "   2.60049015e-01   3.05441409e-01   3.28267992e-01   3.50783139e-01\n",
      "   3.96620572e-01   4.54353422e-01   4.95988488e-01   4.99722272e-01\n",
      "   4.74743128e-01   4.36157316e-01   3.74014884e-01   3.03357065e-01\n",
      "   2.33757317e-01   1.64866015e-01   1.04820013e-01   5.58558367e-02\n",
      "   2.20217761e-02   5.04745310e-03   7.50980165e-04   4.82352989e-05\n",
      "   0.00000000e+00   2.85620936e-05   4.40000003e-04   3.73862498e-03\n",
      "   2.33421363e-02   7.26452246e-02   1.31182536e-01   1.88929066e-01\n",
      "   2.37103209e-01   2.71446019e-01   2.92872339e-01   3.16618860e-01\n",
      "   3.51326436e-01   3.99812281e-01   4.41641003e-01   4.52702314e-01\n",
      "   4.40184236e-01   4.09904927e-01   3.63245964e-01   3.02991062e-01\n",
      "   2.32663572e-01   1.60034537e-01   9.78159010e-02   5.03329411e-02\n",
      "   2.02221461e-02   5.55555755e-03   8.23660113e-04   3.48366011e-05\n",
      "   7.45098032e-06   2.08496731e-05   7.07843166e-04   5.96137485e-03\n",
      "   2.98881158e-02   8.00708383e-02   1.36906788e-01   1.88953519e-01\n",
      "   2.28540018e-01   2.58804888e-01   2.81363010e-01   3.00330371e-01\n",
      "   3.25973451e-01   3.73064607e-01   4.17878777e-01   4.40013617e-01\n",
      "   4.36666578e-01   4.11844194e-01   3.67138952e-01   3.00503224e-01\n",
      "   2.22360015e-01   1.48090184e-01   8.84194002e-02   4.46368866e-02\n",
      "   1.79570448e-02   5.09235077e-03   6.03660184e-04   4.77777794e-05\n",
      "   9.80392201e-07   4.77777794e-05   1.12281041e-03   8.01497046e-03\n",
      "   3.42099853e-02   8.52338895e-02   1.44445837e-01   1.99920610e-01\n",
      "   2.44514585e-01   2.79500157e-01   3.05417836e-01   3.24062824e-01\n",
      "   3.52818727e-01   3.97678763e-01   4.40971106e-01   4.61984545e-01\n",
      "   4.54615623e-01   4.21313047e-01   3.61880034e-01   2.81899571e-01\n",
      "   1.99218854e-01   1.28213197e-01   7.36201257e-02   3.59074511e-02\n",
      "   1.42746931e-02   4.19019256e-03   5.75294136e-04   2.67973883e-05\n",
      "   0.00000000e+00   5.98692859e-05   1.30196032e-03   8.84575490e-03\n",
      "   3.33846100e-02   8.11540782e-02   1.45434067e-01   2.10959569e-01\n",
      "   2.70080209e-01   3.18277895e-01   3.54539871e-01   3.83874536e-01\n",
      "   4.18575943e-01   4.60162461e-01   4.90019321e-01   4.92387086e-01\n",
      "   4.63604301e-01   4.07089561e-01   3.28932226e-01   2.40142435e-01\n",
      "   1.60599753e-01   9.78206322e-02   5.34459203e-02   2.56373324e-02\n",
      "   1.06426729e-02   2.93790712e-03   4.37973911e-04   6.60130718e-06\n",
      "   2.09150335e-06   4.98039262e-05   1.11464027e-03   7.21254619e-03\n",
      "   2.60102246e-02   6.62768483e-02   1.28665864e-01   2.02241927e-01\n",
      "   2.76176721e-01   3.42170835e-01   3.96028638e-01   4.41011250e-01\n",
      "   4.80773330e-01   5.11277556e-01   5.17049789e-01   4.89689291e-01\n",
      "   4.31482136e-01   3.50853741e-01   2.61145532e-01   1.78814709e-01\n",
      "   1.11988045e-01   6.39058277e-02   3.33785154e-02   1.61140338e-02\n",
      "   6.67836703e-03   1.74045726e-03   2.31568643e-04   2.54901965e-06\n",
      "   2.02614387e-06   3.85620933e-06   7.33660068e-04   4.26653353e-03\n",
      "   1.54683702e-02   4.25310694e-02   9.17287916e-02   1.59369156e-01\n",
      "   2.39098132e-01   3.17673445e-01   3.88682038e-01   4.43542868e-01\n",
      "   4.80501622e-01   4.91395175e-01   4.73006368e-01   4.20345843e-01\n",
      "   3.43952000e-01   2.58720458e-01   1.77780986e-01   1.12670735e-01\n",
      "   6.62885159e-02   3.59273739e-02   1.84665322e-02   8.72555934e-03\n",
      "   3.27503076e-03   7.41634052e-04   6.99346419e-05   4.70588247e-06\n",
      "   0.00000000e+00   0.00000000e+00   2.51633988e-04   1.64222182e-03\n",
      "   6.79491088e-03   1.96656417e-02   4.71803322e-02   9.38837454e-02\n",
      "   1.57870770e-01   2.30953038e-01   3.03019792e-01   3.60917330e-01\n",
      "   3.91006052e-01   3.88889521e-01   3.55269343e-01   2.96408445e-01\n",
      "   2.25829482e-01   1.57623798e-01   9.99901146e-02   5.97643405e-02\n",
      "   3.34263146e-02   1.73303001e-02   8.64732545e-03   3.84960556e-03\n",
      "   1.21712394e-03   2.27320255e-04   3.77124197e-05   0.00000000e+00\n",
      "   0.00000000e+00   0.00000000e+00   6.21568688e-05   4.79215611e-04\n",
      "   2.13189470e-03   6.27785223e-03   1.64836049e-02   3.58573608e-02\n",
      "   6.59911856e-02   1.06184565e-01   1.49426937e-01   1.84487179e-01\n",
      "   2.02390164e-01   1.99853465e-01   1.78187966e-01   1.44097731e-01\n",
      "   1.07615530e-01   7.49362111e-02   4.75068241e-02   2.82938350e-02\n",
      "   1.55267781e-02   7.81640317e-03   3.73032549e-03   1.56718923e-03\n",
      "   3.99281125e-04   8.69934665e-05   7.58169926e-06   0.00000000e+00\n",
      "   0.00000000e+00   0.00000000e+00   6.14379132e-06   6.97385622e-05\n",
      "   5.01111150e-04   1.86078378e-03   5.51176583e-03   1.24736475e-02\n",
      "   2.40917709e-02   3.85440812e-02   5.43897487e-02   6.55626431e-02\n",
      "   7.09810406e-02   6.97080716e-02   6.19912148e-02   5.14652170e-02\n",
      "   4.11690101e-02   3.05536874e-02   2.04781424e-02   1.24005033e-02\n",
      "   6.63268147e-03   3.23679554e-03   1.45326741e-03   5.48300799e-04\n",
      "   1.22614380e-04   1.39869280e-05   6.79738559e-06   0.00000000e+00\n",
      "   0.00000000e+00   0.00000000e+00   0.00000000e+00   2.48366018e-06\n",
      "   1.39019612e-04   6.39542472e-04   2.11091479e-03   4.70332988e-03\n",
      "   9.08266287e-03   1.37703102e-02   1.90204382e-02   2.34519076e-02\n",
      "   2.52737813e-02   2.45460309e-02   2.18451694e-02   1.74539499e-02\n",
      "   1.38624553e-02   1.01639777e-02   6.67124055e-03   3.95529345e-03\n",
      "   2.11875816e-03   9.34901705e-04   2.95163423e-04   6.33986856e-05\n",
      "   2.02614387e-06   3.85620933e-06   0.00000000e+00   0.00000000e+00\n",
      "   0.00000000e+00   0.00000000e+00   0.00000000e+00   0.00000000e+00\n",
      "   9.93464073e-06   6.11111100e-05   1.63267992e-04   3.49804002e-04\n",
      "   5.02810522e-04   7.71503197e-04   1.31771236e-03   1.68614404e-03\n",
      "   2.06267973e-03   2.31640553e-03   2.69816956e-03   2.32183025e-03\n",
      "   1.89307204e-03   1.34712411e-03   7.86012912e-04   3.48496775e-04\n",
      "   1.78954229e-04   7.56209192e-05   5.92810466e-05   7.84313761e-06\n",
      "   0.00000000e+00   0.00000000e+00   0.00000000e+00   0.00000000e+00]\n",
      "\n",
      "[ 0.          0.          0.          0.          0.          0.          0.\n",
      "  0.          0.          0.          0.          0.          0.          0.\n",
      "  0.          0.          0.          0.          0.          0.          0.\n",
      "  0.          0.          0.          0.          0.          0.          0.\n",
      "  0.          0.          0.          0.          0.          0.          0.\n",
      "  0.          0.          0.          0.          0.          0.          0.\n",
      "  0.          0.          0.          0.          0.          0.          0.\n",
      "  0.          0.          0.          0.          0.          0.          0.\n",
      "  0.          0.          0.          0.          0.          0.          0.\n",
      "  0.          0.          0.          0.          0.          0.          0.\n",
      "  0.          0.          0.          0.          0.          0.          0.\n",
      "  0.          0.          0.          0.          0.          0.          0.\n",
      "  0.          0.          0.          0.          0.          0.          0.\n",
      "  0.          0.          0.          0.          0.          0.          0.\n",
      "  0.          0.          0.          0.          0.          0.          0.\n",
      "  0.          0.          0.          0.          0.          0.          0.\n",
      "  0.          0.          0.          0.          0.          0.          0.\n",
      "  0.          0.          0.          0.          0.          0.          0.\n",
      "  0.          0.2         0.62352943  0.99215686  0.62352943  0.19607843\n",
      "  0.          0.          0.          0.          0.          0.          0.\n",
      "  0.          0.          0.          0.          0.          0.          0.\n",
      "  0.          0.          0.          0.          0.          0.          0.\n",
      "  0.          0.1882353   0.93333334  0.98823529  0.98823529  0.98823529\n",
      "  0.92941177  0.          0.          0.          0.          0.          0.\n",
      "  0.          0.          0.          0.          0.          0.          0.\n",
      "  0.          0.          0.          0.          0.          0.          0.\n",
      "  0.          0.21176471  0.89019608  0.99215686  0.98823529  0.93725491\n",
      "  0.9137255   0.98823529  0.22352941  0.02352941  0.          0.          0.\n",
      "  0.          0.          0.          0.          0.          0.          0.\n",
      "  0.          0.          0.          0.          0.          0.          0.\n",
      "  0.03921569  0.23529412  0.87843138  0.98823529  0.99215686  0.98823529\n",
      "  0.79215688  0.32941177  0.98823529  0.99215686  0.47843137  0.          0.\n",
      "  0.          0.          0.          0.          0.          0.          0.\n",
      "  0.          0.          0.          0.          0.          0.          0.\n",
      "  0.          0.63921571  0.98823529  0.98823529  0.98823529  0.99215686\n",
      "  0.98823529  0.98823529  0.3764706   0.74117649  0.99215686  0.65490198\n",
      "  0.          0.          0.          0.          0.          0.          0.\n",
      "  0.          0.          0.          0.          0.          0.          0.\n",
      "  0.          0.          0.2         0.93333334  0.99215686  0.99215686\n",
      "  0.74509805  0.44705883  0.99215686  0.89411765  0.18431373  0.30980393\n",
      "  1.          0.65882355  0.          0.          0.          0.          0.\n",
      "  0.          0.          0.          0.          0.          0.          0.\n",
      "  0.          0.          0.          0.1882353   0.93333334  0.98823529\n",
      "  0.98823529  0.7019608   0.04705882  0.29411766  0.47450981  0.08235294\n",
      "  0.          0.          0.99215686  0.95294118  0.19607843  0.          0.\n",
      "  0.          0.          0.          0.          0.          0.          0.\n",
      "  0.          0.          0.          0.          0.14901961  0.64705884\n",
      "  0.99215686  0.9137255   0.81568629  0.32941177  0.          0.          0.\n",
      "  0.          0.          0.          0.99215686  0.98823529  0.64705884\n",
      "  0.          0.          0.          0.          0.          0.          0.\n",
      "  0.          0.          0.          0.          0.          0.02745098\n",
      "  0.69803923  0.98823529  0.94117647  0.27843139  0.07450981  0.10980392\n",
      "  0.          0.          0.          0.          0.          0.\n",
      "  0.99215686  0.98823529  0.7647059   0.          0.          0.          0.\n",
      "  0.          0.          0.          0.          0.          0.          0.\n",
      "  0.          0.22352941  0.98823529  0.98823529  0.24705882  0.          0.\n",
      "  0.          0.          0.          0.          0.          0.          0.\n",
      "  0.99215686  0.98823529  0.7647059   0.          0.          0.          0.\n",
      "  0.          0.          0.          0.          0.          0.          0.\n",
      "  0.          0.7764706   0.99215686  0.74509805  0.          0.          0.\n",
      "  0.          0.          0.          0.          0.          0.          0.\n",
      "  1.          0.99215686  0.76862746  0.          0.          0.          0.\n",
      "  0.          0.          0.          0.          0.          0.          0.\n",
      "  0.29803923  0.96470588  0.98823529  0.43921569  0.          0.          0.\n",
      "  0.          0.          0.          0.          0.          0.          0.\n",
      "  0.99215686  0.98823529  0.58039218  0.          0.          0.          0.\n",
      "  0.          0.          0.          0.          0.          0.          0.\n",
      "  0.33333334  0.98823529  0.90196079  0.09803922  0.          0.          0.\n",
      "  0.          0.          0.          0.          0.          0.02745098\n",
      "  0.52941179  0.99215686  0.72941178  0.04705882  0.          0.          0.\n",
      "  0.          0.          0.          0.          0.          0.          0.\n",
      "  0.          0.33333334  0.98823529  0.87450981  0.          0.          0.\n",
      "  0.          0.          0.          0.          0.          0.02745098\n",
      "  0.51372552  0.98823529  0.88235295  0.27843139  0.          0.          0.\n",
      "  0.          0.          0.          0.          0.          0.          0.\n",
      "  0.          0.          0.33333334  0.98823529  0.56862748  0.          0.\n",
      "  0.          0.          0.          0.          0.          0.1882353\n",
      "  0.64705884  0.98823529  0.67843139  0.          0.          0.          0.\n",
      "  0.          0.          0.          0.          0.          0.          0.\n",
      "  0.          0.          0.          0.33725491  0.99215686  0.88235295\n",
      "  0.          0.          0.          0.          0.          0.\n",
      "  0.44705883  0.93333334  0.99215686  0.63529414  0.          0.          0.\n",
      "  0.          0.          0.          0.          0.          0.          0.\n",
      "  0.          0.          0.          0.          0.          0.33333334\n",
      "  0.98823529  0.97647059  0.57254905  0.1882353   0.11372549  0.33333334\n",
      "  0.69803923  0.88235295  0.99215686  0.87450981  0.65490198  0.21960784\n",
      "  0.          0.          0.          0.          0.          0.          0.\n",
      "  0.          0.          0.          0.          0.          0.          0.\n",
      "  0.          0.33333334  0.98823529  0.98823529  0.98823529  0.89803922\n",
      "  0.84313726  0.98823529  0.98823529  0.98823529  0.76862746  0.50980395\n",
      "  0.          0.          0.          0.          0.          0.          0.\n",
      "  0.          0.          0.          0.          0.          0.          0.\n",
      "  0.          0.          0.          0.10980392  0.78039217  0.98823529\n",
      "  0.98823529  0.99215686  0.98823529  0.98823529  0.9137255   0.56862748\n",
      "  0.          0.          0.          0.          0.          0.          0.\n",
      "  0.          0.          0.          0.          0.          0.          0.\n",
      "  0.          0.          0.          0.          0.          0.\n",
      "  0.09803922  0.50196081  0.98823529  0.99215686  0.98823529  0.5529412\n",
      "  0.14509805  0.          0.          0.          0.          0.          0.\n",
      "  0.          0.          0.          0.          0.          0.          0.\n",
      "  0.          0.          0.          0.          0.          0.          0.\n",
      "  0.          0.          0.          0.          0.          0.          0.\n",
      "  0.          0.          0.          0.          0.          0.          0.\n",
      "  0.          0.          0.          0.          0.          0.          0.\n",
      "  0.          0.          0.          0.          0.          0.          0.\n",
      "  0.          0.          0.          0.          0.          0.          0.\n",
      "  0.          0.          0.          0.          0.          0.          0.\n",
      "  0.          0.          0.          0.          0.          0.          0.\n",
      "  0.          0.          0.          0.          0.          0.          0.\n",
      "  0.          0.          0.          0.          0.          0.          0.\n",
      "  0.          0.          0.          0.          0.          0.          0.\n",
      "  0.          0.          0.          0.          0.          0.          0.\n",
      "  0.          0.          0.          0.          0.          0.          0.\n",
      "  0.          0.          0.          0.          0.          0.          0.\n",
      "  0.          0.          0.          0.          0.          0.          0.\n",
      "  0.          0.          0.          0.          0.          0.          0.\n",
      "  0.        ]\n"
     ]
    }
   ],
   "source": [
    "# Quickly ensure everything has been normalized.\n",
    "\n",
    "print(X_train_pp.mean(axis = 0))\n",
    "print('')\n",
    "print(X_train_pp[1])"
   ]
  },
  {
   "cell_type": "code",
   "execution_count": 5,
   "metadata": {
    "collapsed": true
   },
   "outputs": [],
   "source": [
    "# Keras needs the labels as categorical matrics.\n",
    "\n",
    "y_train_pp = np_utils.to_categorical(y_train)\n",
    "y_test_pp = np_utils.to_categorical(y_test)\n",
    "num_classes = y_test_pp.shape[1]"
   ]
  },
  {
   "cell_type": "code",
   "execution_count": 6,
   "metadata": {},
   "outputs": [
    {
     "name": "stdout",
     "output_type": "stream",
     "text": [
      "Train on 60000 samples, validate on 10000 samples\n",
      "Epoch 1/10\n",
      "4s - loss: 0.3254 - acc: 0.9076 - val_loss: 0.1506 - val_acc: 0.9561\n",
      "Epoch 2/10\n",
      "3s - loss: 0.1143 - acc: 0.9656 - val_loss: 0.1103 - val_acc: 0.9658\n",
      "Epoch 3/10\n",
      "3s - loss: 0.0771 - acc: 0.9759 - val_loss: 0.0965 - val_acc: 0.9706\n",
      "Epoch 4/10\n",
      "3s - loss: 0.0580 - acc: 0.9816 - val_loss: 0.0885 - val_acc: 0.9725\n",
      "Epoch 5/10\n",
      "3s - loss: 0.0424 - acc: 0.9868 - val_loss: 0.0755 - val_acc: 0.9764\n",
      "Epoch 6/10\n",
      "3s - loss: 0.0357 - acc: 0.9883 - val_loss: 0.0718 - val_acc: 0.9790\n",
      "Epoch 7/10\n",
      "3s - loss: 0.0267 - acc: 0.9917 - val_loss: 0.0787 - val_acc: 0.9774\n",
      "Epoch 8/10\n",
      "3s - loss: 0.0249 - acc: 0.9921 - val_loss: 0.0852 - val_acc: 0.9751\n",
      "Epoch 9/10\n",
      "3s - loss: 0.0196 - acc: 0.9938 - val_loss: 0.0914 - val_acc: 0.9761\n",
      "Epoch 10/10\n",
      "3s - loss: 0.0176 - acc: 0.9944 - val_loss: 0.0807 - val_acc: 0.9794\n"
     ]
    }
   ],
   "source": [
    "# Define a simple MLP with three hidden layers of 150, 300, and 150 neurons, respectively.\n",
    "# First line of code: set a seed for replication.\n",
    "# Second: Define the model to be sequential using Keras.\n",
    "# Next three lines: \n",
    "    # Define the MLP, where number units sets the number of neurons\n",
    "    # input_dim is the dimension of the data flowing in and passing through the layers.  It remains fixed.\n",
    "    # activation is the sigmoidal shape of a neuron, here using the rectified linear unit or 'relu'\n",
    "# Final line: \n",
    "    # We map into the number of classes we have for the digits with the softmax activation, which just chooses\n",
    "    # the most probable.\n",
    "\n",
    "np.random.seed(1066)\n",
    "model = Sequential()\n",
    "model.add(Dense(units=150, input_dim=num_pixels, activation='relu'))\n",
    "model.add(Dense(units=300, input_dim=num_pixels, activation='relu'))\n",
    "model.add(Dense(units=150, input_dim=num_pixels, activation='relu'))\n",
    "model.add(Dense(units=num_classes, activation='softmax'))\n",
    "\n",
    "# Compile, fit, and generate scores and predicted probabilities.\n",
    "model.compile(loss='categorical_crossentropy', optimizer='adam', metrics=['accuracy'])\n",
    "model.fit(X_train_pp, y_train_pp, validation_data=(X_test_pp, y_test_pp), epochs=10, batch_size=200, verbose=2)\n",
    "scores = model.evaluate(X_test_pp, y_test_pp, verbose=0)\n",
    "prob = model.predict(X_test_pp)"
   ]
  },
  {
   "cell_type": "code",
   "execution_count": 7,
   "metadata": {},
   "outputs": [
    {
     "data": {
      "image/png": "[encoded data removed]",
      "text/plain": [
       "<matplotlib.figure.Figure at 0x1058256d8>"
      ]
     },
     "metadata": {},
     "output_type": "display_data"
    },
    {
     "name": "stdout",
     "output_type": "stream",
     "text": [
      "Classified as a 6 with probability 0.999994\n"
     ]
    }
   ],
   "source": [
    "# Examine the performance of the 50th image in the test set.\n",
    "\n",
    "img = 50\n",
    "plt.imshow(X_test[img], cmap=plt.get_cmap('gray'))\n",
    "plt.axis('off')\n",
    "plt.show()\n",
    "#prob = model.predict(X_test_pp)\n",
    "print('Classified as a %d with probability %f' % (prob[img].argmax(), max(prob[img])))"
   ]
  },
  {
   "cell_type": "code",
   "execution_count": 8,
   "metadata": {},
   "outputs": [
    {
     "name": "stdout",
     "output_type": "stream",
     "text": [
      "Accuracy Rate: 0.979400\n"
     ]
    }
   ],
   "source": [
    "# Standard measures of performance.\n",
    "# First the accuracy rate on the test or validation set.\n",
    "\n",
    "from sklearn.metrics import accuracy_score\n",
    "print('Accuracy Rate: %f' % accuracy_score(y_test, prob.argmax(axis = 1)))"
   ]
  },
  {
   "cell_type": "code",
   "execution_count": 9,
   "metadata": {},
   "outputs": [
    {
     "name": "stdout",
     "output_type": "stream",
     "text": [
      "Confusion matrix:\n",
      "[[ 967    1    1    1    1    0    2    2    3    2]\n",
      " [   0 1121    2    4    0    2    2    1    3    0]\n",
      " [   2    0 1013    4    1    0    0    8    3    1]\n",
      " [   0    0    4  990    0    6    0    4    2    4]\n",
      " [   0    1    4    0  959    0    5    2    0   11]\n",
      " [   2    0    0    7    1  872    3    2    5    0]\n",
      " [   2    2    1    0    3    8  939    0    3    0]\n",
      " [   0    3    7    5    0    0    0 1007    3    3]\n",
      " [   1    0    3    1    4    6    0    4  952    3]\n",
      " [   1    3    0    7    4    6    1    7    6  974]]\n"
     ]
    }
   ],
   "source": [
    "# Next the confusion matrix, which shows correct and incorrect classification on the test set.\n",
    "\n",
    "from sklearn.metrics import confusion_matrix\n",
    "print('Confusion matrix:\\n%s' % confusion_matrix(y_test, prob.argmax(axis = 1)))"
   ]
  },
  {
   "cell_type": "code",
   "execution_count": 10,
   "metadata": {},
   "outputs": [
    {
     "name": "stdout",
     "output_type": "stream",
     "text": [
      "Classification Report:\n",
      "             precision    recall  f1-score   support\n",
      "\n",
      "          0       0.99      0.99      0.99       980\n",
      "          1       0.99      0.99      0.99      1135\n",
      "          2       0.98      0.98      0.98      1032\n",
      "          3       0.97      0.98      0.98      1010\n",
      "          4       0.99      0.98      0.98       982\n",
      "          5       0.97      0.98      0.97       892\n",
      "          6       0.99      0.98      0.98       958\n",
      "          7       0.97      0.98      0.98      1028\n",
      "          8       0.97      0.98      0.97       974\n",
      "          9       0.98      0.97      0.97      1009\n",
      "\n",
      "avg / total       0.98      0.98      0.98     10000\n",
      "\n"
     ]
    }
   ],
   "source": [
    "# Next a classification report.\n",
    "\n",
    "from sklearn.metrics import classification_report\n",
    "print('Classification Report:')\n",
    "print(classification_report(y_test, prob.argmax(axis = 1)))"
   ]
  },
  {
   "cell_type": "code",
   "execution_count": 11,
   "metadata": {},
   "outputs": [
    {
     "data": {
      "text/plain": [
       "(array([ 151,  247,  274,  320,  340,  445,  448,  495,  582,  674,  684,\n",
       "         691,  882, 1014, 1226, 1232, 1247, 1319, 1393, 1425, 1500, 1530,\n",
       "        1554, 1670, 1709, 1751, 1754, 1901, 2035, 2098, 2109, 2118, 2135,\n",
       "        2189, 2293, 2387, 2454, 2582, 2607, 2648, 2654, 2721, 2915, 2927,\n",
       "        2939, 2979, 3005, 3060, 3117, 3218, 3289, 3422, 3451, 3503, 3520,\n",
       "        3558, 3559, 3567, 3597, 3751, 3808, 3838, 3853, 3926, 3941, 4224,\n",
       "        4294, 4321, 4369, 4425, 4433, 4497, 4498, 4536, 4601, 4731, 4807,\n",
       "        4956, 5676, 5937, 6166, 6560, 6571, 6625, 6632, 6755, 6847, 7179,\n",
       "        7800, 7821, 8294, 8504, 9009, 9015, 9024, 9280, 9422, 9587, 9638,\n",
       "        9692, 9755, 9756, 9768, 9770, 9782, 9792]),)"
      ]
     },
     "execution_count": 11,
     "metadata": {},
     "output_type": "execute_result"
    }
   ],
   "source": [
    "# Finally, identify cases that failed.\n",
    "\n",
    "(y_test - prob.argmax(axis = 1) > 0).nonzero()"
   ]
  },
  {
   "cell_type": "code",
   "execution_count": 12,
   "metadata": {},
   "outputs": [
    {
     "data": {
      "image/png": "[encoded data removed]",
      "text/plain": [
       "<matplotlib.figure.Figure at 0x1207b3d68>"
      ]
     },
     "metadata": {},
     "output_type": "display_data"
    },
    {
     "name": "stdout",
     "output_type": "stream",
     "text": [
      "Classified as a 3 with probability 0.963660\n"
     ]
    }
   ],
   "source": [
    "img = 340\n",
    "plt.imshow(X_test[img], cmap=plt.get_cmap('gray'))\n",
    "plt.axis('off')\n",
    "plt.show()\n",
    "print('Classified as a %d with probability %f' % (prob[img].argmax(), max(prob[img])))"
   ]
  },
  {
   "cell_type": "markdown",
   "metadata": {},
   "source": [
    "* Assignment: Add an additional hidden layer with 300 neurons using the 'relu' activation.  How does your accuracy change?"
   ]
  },
  {
   "cell_type": "markdown",
   "metadata": {},
   "source": [
    "## 4. Convolutional Neural Networks (CNN)\n",
    "\n",
    "* Expensive computational improvement that you will want to run in a clustered computing environment (unless you have laundry to do)."
   ]
  },
  {
   "cell_type": "code",
   "execution_count": 13,
   "metadata": {
    "collapsed": true
   },
   "outputs": [],
   "source": [
    "# Load the libraries.\n",
    "\n",
    "from keras.layers import Dropout\n",
    "from keras.layers import Flatten\n",
    "from keras.layers.convolutional import Conv2D\n",
    "from keras.layers.convolutional import MaxPooling2D\n",
    "from keras.utils import np_utils\n",
    "from keras import backend as K\n",
    "K.set_image_dim_ordering('th')"
   ]
  },
  {
   "cell_type": "code",
   "execution_count": 14,
   "metadata": {
    "collapsed": true
   },
   "outputs": [],
   "source": [
    "# Preprocess the NMIST data, but maintain datastructure for CNN.\n",
    "\n",
    "X_train_pp = (X_train.reshape(X_train.shape[0], 1, 28, 28).astype('float32')) / 255\n",
    "X_test_pp = (X_test.reshape(X_test.shape[0], 1, 28, 28).astype('float32')) / 255"
   ]
  },
  {
   "cell_type": "code",
   "execution_count": 15,
   "metadata": {},
   "outputs": [
    {
     "name": "stdout",
     "output_type": "stream",
     "text": [
      "Train on 60000 samples, validate on 10000 samples\n",
      "Epoch 1/10\n",
      "173s - loss: 0.2492 - acc: 0.9289 - val_loss: 0.0810 - val_acc: 0.9749\n",
      "Epoch 2/10\n",
      "171s - loss: 0.0744 - acc: 0.9779 - val_loss: 0.0533 - val_acc: 0.9846\n",
      "Epoch 3/10\n",
      "170s - loss: 0.0550 - acc: 0.9836 - val_loss: 0.0521 - val_acc: 0.9825\n",
      "Epoch 4/10\n",
      "169s - loss: 0.0431 - acc: 0.9868 - val_loss: 0.0357 - val_acc: 0.9890\n",
      "Epoch 5/10\n",
      "169s - loss: 0.0357 - acc: 0.9890 - val_loss: 0.0339 - val_acc: 0.9885\n",
      "Epoch 6/10\n",
      "169s - loss: 0.0287 - acc: 0.9910 - val_loss: 0.0370 - val_acc: 0.9876\n",
      "Epoch 7/10\n",
      "170s - loss: 0.0239 - acc: 0.9924 - val_loss: 0.0374 - val_acc: 0.9878\n",
      "Epoch 8/10\n",
      "170s - loss: 0.0198 - acc: 0.9935 - val_loss: 0.0338 - val_acc: 0.9886\n",
      "Epoch 9/10\n",
      "169s - loss: 0.0179 - acc: 0.9943 - val_loss: 0.0310 - val_acc: 0.9897\n",
      "Epoch 10/10\n",
      "169s - loss: 0.0154 - acc: 0.9948 - val_loss: 0.0316 - val_acc: 0.9879\n"
     ]
    }
   ],
   "source": [
    "# Format of basic CNN.\n",
    "# The first hidden layer is a convolutional layer called a Convolution2D. \n",
    "# The layer has 32 feature maps, each of which are 5 X 5, and a rectifier activation function. \n",
    "# This is the input layer, expecting images with the structure of [pixels][width][height].\n",
    "# A pooling layer is then defined to take the maximum called \"MaxPooling2D\". \n",
    "# The next layer is a regularization using dropout called \"Dropout\" which eliminates 25% of neurons per layer.\n",
    "# Next is a layer that converts the 2D matrix data to a vector using \"Flatten\" \n",
    "    # which allows the output to be processed by standard fully connected layers.\n",
    "# The final connection layer contains 128 neurons and rectifier activation function.\n",
    "# Everything is finally reduced using perceptron layer.  \n",
    "\n",
    "np.random.seed(1066)\n",
    "model = Sequential()\n",
    "model.add(Conv2D(32, (5, 5), input_shape=(1, 28, 28), activation='relu'))\n",
    "model.add(MaxPooling2D(pool_size=(2, 2)))\n",
    "model.add(Dropout(0.25))\n",
    "model.add(Flatten())\n",
    "model.add(Dense(128, activation='relu'))\n",
    "model.add(Dense(num_classes, activation='softmax'))\n",
    "\n",
    "# Compile, fit, and generate scores and predicted probabilities.\n",
    "model.compile(loss='categorical_crossentropy', optimizer='adam', metrics=['accuracy'])\n",
    "model.fit(X_train_pp, y_train_pp, validation_data=(X_test_pp, y_test_pp), epochs=10, batch_size=200, verbose=2)\n",
    "scores = model.evaluate(X_test_pp, y_test_pp, verbose=0)\n",
    "prob = model.predict(X_test_pp)"
   ]
  },
  {
   "cell_type": "code",
   "execution_count": 16,
   "metadata": {},
   "outputs": [
    {
     "data": {
      "image/png": "[encoded data removed]",
      "text/plain": [
       "<matplotlib.figure.Figure at 0x122d63a58>"
      ]
     },
     "metadata": {},
     "output_type": "display_data"
    },
    {
     "name": "stdout",
     "output_type": "stream",
     "text": [
      "Classified as a 6 with probability 0.999999\n"
     ]
    }
   ],
   "source": [
    "# Examine the performance of the 50th image in the test set.\n",
    "\n",
    "img = 50\n",
    "plt.imshow(X_test[img], cmap=plt.get_cmap('gray'))\n",
    "plt.axis('off')\n",
    "plt.show()\n",
    "print('Classified as a %d with probability %f' % (prob[img].argmax(), max(prob[img])))"
   ]
  },
  {
   "cell_type": "code",
   "execution_count": 17,
   "metadata": {},
   "outputs": [
    {
     "name": "stdout",
     "output_type": "stream",
     "text": [
      "Accuracy Rate: 0.987900\n",
      "\n",
      "Confusion matrix:\n",
      "[[ 973    0    2    0    0    0    3    1    1    0]\n",
      " [   0 1129    2    0    0    0    2    1    1    0]\n",
      " [   1    1 1022    0    0    0    0    4    4    0]\n",
      " [   0    0    2  996    0    9    0    0    3    0]\n",
      " [   0    0    1    0  969    0    2    0    1    9]\n",
      " [   1    0    0    4    0  885    1    0    1    0]\n",
      " [   5    1    0    0    1    1  947    0    3    0]\n",
      " [   1    1    8    1    0    0    0 1014    1    2]\n",
      " [   3    0    1    0    0    1    0    2  964    3]\n",
      " [   2    1    0    2    6    7    0    5    6  980]]\n",
      "\n",
      "Classification Report:\n",
      "             precision    recall  f1-score   support\n",
      "\n",
      "          0       0.99      0.99      0.99       980\n",
      "          1       1.00      0.99      1.00      1135\n",
      "          2       0.98      0.99      0.99      1032\n",
      "          3       0.99      0.99      0.99      1010\n",
      "          4       0.99      0.99      0.99       982\n",
      "          5       0.98      0.99      0.99       892\n",
      "          6       0.99      0.99      0.99       958\n",
      "          7       0.99      0.99      0.99      1028\n",
      "          8       0.98      0.99      0.98       974\n",
      "          9       0.99      0.97      0.98      1009\n",
      "\n",
      "avg / total       0.99      0.99      0.99     10000\n",
      "\n",
      "\n"
     ]
    },
    {
     "data": {
      "text/plain": [
       "(array([ 247,  340,  445,  448,  684,  813,  882, 1014, 1039, 1226, 1232,\n",
       "        1247, 1260, 1319, 1326, 1393, 1414, 1530, 1553, 1709, 1901, 2035,\n",
       "        2118, 2129, 2293, 2414, 2462, 2582, 2597, 2648, 2654, 2896, 2921,\n",
       "        2939, 3030, 3060, 3422, 3503, 3520, 3558, 3559, 3751, 4163, 4238,\n",
       "        4248, 4497, 4761, 4807, 4814, 4823, 5887, 6091, 6157, 6172, 6173,\n",
       "        6571, 6625, 7849, 8316, 9009, 9015, 9530, 9587, 9642, 9692]),)"
      ]
     },
     "execution_count": 17,
     "metadata": {},
     "output_type": "execute_result"
    }
   ],
   "source": [
    "# Substantial, if very costly, improvement.\n",
    "# Getting these to scale is both an engineering challenge and achievement.\n",
    "# But when you're dealing with a billion or so pieces of mail, a 100 bp increase in accuracy is a lot of mail.\n",
    "\n",
    "print('Accuracy Rate: %f' % accuracy_score(y_test, prob.argmax(axis = 1)))\n",
    "print('')\n",
    "print('Confusion matrix:\\n%s' % confusion_matrix(y_test, prob.argmax(axis = 1)))\n",
    "print('')\n",
    "print('Classification Report:')\n",
    "print(classification_report(y_test, prob.argmax(axis = 1)))\n",
    "print('')\n",
    "(y_test - prob.argmax(axis = 1) > 0).nonzero()"
   ]
  },
  {
   "cell_type": "code",
   "execution_count": 18,
   "metadata": {},
   "outputs": [
    {
     "data": {
      "image/png": "[encoded data removed]",
      "text/plain": [
       "<matplotlib.figure.Figure at 0x12ef65630>"
      ]
     },
     "metadata": {},
     "output_type": "display_data"
    },
    {
     "name": "stdout",
     "output_type": "stream",
     "text": [
      "Classified as a 3 with probability 0.732379\n"
     ]
    }
   ],
   "source": [
    "img = 340\n",
    "plt.imshow(X_test[img], cmap=plt.get_cmap('gray'))\n",
    "plt.axis('off')\n",
    "plt.show()\n",
    "print('Classified as a %d with probability %f' % (prob[img].argmax(), max(prob[img])))"
   ]
  },
  {
   "cell_type": "markdown",
   "metadata": {},
   "source": [
    "# An Applications in Finance\n",
    "## 1. The Capital Asset Pricing Model (CAPM)\n",
    "* Early and simple workhorse model in empirical finance\n",
    "\n",
    "* Let $r_i$ denote the rate of return to asset $i$, $r_f$ denote the known rate of return on a risk-free asset (for example, short-term US government debt), and $r_m$ denote the rate of return to a portfolio (or a market) that includes $i$.  \n",
    "\n",
    "* The following equation can be derived:\n",
    "\n",
    "$E(r_i)-r_f = \\alpha + \\beta \\cdot (E(r_m)-r_f)$\n",
    "\n",
    "* Here, $E(\\cdot)$ denotes an expected value (because this is a forward-looking prediction).  In CAPM, $\\beta$ captures the sensitivity of an asset’s returns to the returns to a portfolio or to the market on which an asset trades.  In other words, it non-diversifiable risk.  In addition, $\\alpha$ measures an asset $i$’s excess (or abnormal) returns.\n",
    "\n",
    "* Phrases you may have heard: \n",
    "\n",
    "1. The stock's beta is high\n",
    "2. The hedge fund is chasing alpha\n",
    "\n",
    "* Formally, we can express our conjecture as a joint hypothesis:\n",
    "\n",
    "$H_0: \\alpha = 0, \\beta=1$\n",
    "\n",
    "$H_1: \\text{ not }H_0$"
   ]
  },
  {
   "cell_type": "code",
   "execution_count": 19,
   "metadata": {},
   "outputs": [
    {
     "data": {
      "image/png": "[encoded data removed]",
      "text/plain": [
       "<PIL.JpegImagePlugin.JpegImageFile image mode=RGB size=309x309 at 0x122D63710>"
      ]
     },
     "execution_count": 19,
     "metadata": {},
     "output_type": "execute_result"
    }
   ],
   "source": [
    "# When I teach, I stand in front of a sea of these.\n",
    "\n",
    "from PIL import Image\n",
    "import urllib.request as url\n",
    "import io\n",
    "\n",
    "fd = url.urlopen(\"http://wallpaper.sc/en/iphone6plus/wp-content/uploads/2015/12/iphone6plus-1398x2592-wallpaper_02663-309x309.jpg\")\n",
    "image_file = io.BytesIO(fd.read())\n",
    "Image.open(image_file)"
   ]
  },
  {
   "cell_type": "code",
   "execution_count": 23,
   "metadata": {},
   "outputs": [],
   "source": [
    "import pandas as pd\n",
    "import pandas_datareader.data as web\n",
    "import fix_yahoo_finance\n",
    "#import datetime as dt  \n",
    "import statsmodels.api as sm\n",
    "import statsmodels.formula.api as smf\n",
    "from statsmodels.graphics.api import abline_plot\n",
    "import patsy\n",
    "import seaborn as sns\n",
    "sns.set(context='notebook', style='whitegrid', palette='deep', font='sans-serif', font_scale=1, rc=None)\n",
    "import warnings\n",
    "warnings.simplefilter('ignore')"
   ]
  },
  {
   "cell_type": "code",
   "execution_count": 40,
   "metadata": {
    "scrolled": false
   },
   "outputs": [
    {
     "name": "stdout",
     "output_type": "stream",
     "text": [
      "[*********************100%***********************]  1 of 1 downloaded"
     ]
    }
   ],
   "source": [
    "# Grab 10 years of Apple and NASDAQ data.  \n",
    "# Note that the old Yahoo Finance API was deprecated.  (Thanks, Verizon!  That Marissa pay-out was steep.)\n",
    "# Ran Aroussi has developed a fix that saves accessibility to Yahoo Finance. Thanks, Ran! Great stuff. \n",
    "\n",
    "start, end = \"2006-01-01\", \"2015-12-31\"\n",
    "aapl_all = web.get_data_yahoo(\"aapl\", start=start, end=end)\n",
    "nasdaq_all = web.get_data_yahoo(\"^ixic\", start=start, end=end)\n",
    "aapl = aapl_all['Adj Close']\n",
    "nasdaq = nasdaq_all['Adj Close']"
   ]
  },
  {
   "cell_type": "code",
   "execution_count": 41,
   "metadata": {},
   "outputs": [
    {
     "data": {
      "text/html": [
       "<div>\n",
       "<style>\n",
       "    .dataframe thead tr:only-child th {\n",
       "        text-align: right;\n",
       "    }\n",
       "\n",
       "    .dataframe thead th {\n",
       "        text-align: left;\n",
       "    }\n",
       "\n",
       "    .dataframe tbody tr th {\n",
       "        vertical-align: top;\n",
       "    }\n",
       "</style>\n",
       "<table border=\"1\" class=\"dataframe\">\n",
       "  <thead>\n",
       "    <tr style=\"text-align: right;\">\n",
       "      <th></th>\n",
       "      <th>Open</th>\n",
       "      <th>High</th>\n",
       "      <th>Low</th>\n",
       "      <th>Close</th>\n",
       "      <th>Adj Close</th>\n",
       "      <th>Volume</th>\n",
       "    </tr>\n",
       "    <tr>\n",
       "      <th>Date</th>\n",
       "      <th></th>\n",
       "      <th></th>\n",
       "      <th></th>\n",
       "      <th></th>\n",
       "      <th></th>\n",
       "      <th></th>\n",
       "    </tr>\n",
       "  </thead>\n",
       "  <tbody>\n",
       "    <tr>\n",
       "      <th>2006-01-03</th>\n",
       "      <td>2216.530029</td>\n",
       "      <td>2249.679932</td>\n",
       "      <td>2189.909912</td>\n",
       "      <td>2243.739990</td>\n",
       "      <td>2243.739990</td>\n",
       "      <td>1998300000</td>\n",
       "    </tr>\n",
       "    <tr>\n",
       "      <th>2006-01-04</th>\n",
       "      <td>2246.959961</td>\n",
       "      <td>2265.280029</td>\n",
       "      <td>2246.070068</td>\n",
       "      <td>2263.459961</td>\n",
       "      <td>2263.459961</td>\n",
       "      <td>1887560000</td>\n",
       "    </tr>\n",
       "    <tr>\n",
       "      <th>2006-01-05</th>\n",
       "      <td>2264.929932</td>\n",
       "      <td>2277.560059</td>\n",
       "      <td>2264.500000</td>\n",
       "      <td>2276.870117</td>\n",
       "      <td>2276.870117</td>\n",
       "      <td>1891750000</td>\n",
       "    </tr>\n",
       "    <tr>\n",
       "      <th>2006-01-06</th>\n",
       "      <td>2289.209961</td>\n",
       "      <td>2306.719971</td>\n",
       "      <td>2281.010010</td>\n",
       "      <td>2305.620117</td>\n",
       "      <td>2305.620117</td>\n",
       "      <td>2233640000</td>\n",
       "    </tr>\n",
       "    <tr>\n",
       "      <th>2006-01-09</th>\n",
       "      <td>2306.179932</td>\n",
       "      <td>2322.629883</td>\n",
       "      <td>2303.129883</td>\n",
       "      <td>2318.689941</td>\n",
       "      <td>2318.689941</td>\n",
       "      <td>1949140000</td>\n",
       "    </tr>\n",
       "    <tr>\n",
       "      <th>2006-01-10</th>\n",
       "      <td>2306.219971</td>\n",
       "      <td>2320.320068</td>\n",
       "      <td>2303.929932</td>\n",
       "      <td>2320.320068</td>\n",
       "      <td>2320.320068</td>\n",
       "      <td>1978160000</td>\n",
       "    </tr>\n",
       "    <tr>\n",
       "      <th>2006-01-11</th>\n",
       "      <td>2321.409912</td>\n",
       "      <td>2332.919922</td>\n",
       "      <td>2316.489990</td>\n",
       "      <td>2331.360107</td>\n",
       "      <td>2331.360107</td>\n",
       "      <td>2380600000</td>\n",
       "    </tr>\n",
       "    <tr>\n",
       "      <th>2006-01-12</th>\n",
       "      <td>2327.169922</td>\n",
       "      <td>2330.310059</td>\n",
       "      <td>2313.219971</td>\n",
       "      <td>2316.689941</td>\n",
       "      <td>2316.689941</td>\n",
       "      <td>2011460000</td>\n",
       "    </tr>\n",
       "    <tr>\n",
       "      <th>2006-01-13</th>\n",
       "      <td>2317.739990</td>\n",
       "      <td>2321.699951</td>\n",
       "      <td>2308.159912</td>\n",
       "      <td>2317.040039</td>\n",
       "      <td>2317.040039</td>\n",
       "      <td>1784410000</td>\n",
       "    </tr>\n",
       "    <tr>\n",
       "      <th>2006-01-17</th>\n",
       "      <td>2302.560059</td>\n",
       "      <td>2305.870117</td>\n",
       "      <td>2294.050049</td>\n",
       "      <td>2302.689941</td>\n",
       "      <td>2302.689941</td>\n",
       "      <td>1702260000</td>\n",
       "    </tr>\n",
       "    <tr>\n",
       "      <th>2006-01-18</th>\n",
       "      <td>2265.500000</td>\n",
       "      <td>2285.939941</td>\n",
       "      <td>2264.080078</td>\n",
       "      <td>2279.639893</td>\n",
       "      <td>2279.639893</td>\n",
       "      <td>2276900000</td>\n",
       "    </tr>\n",
       "    <tr>\n",
       "      <th>2006-01-19</th>\n",
       "      <td>2291.689941</td>\n",
       "      <td>2311.709961</td>\n",
       "      <td>2289.820068</td>\n",
       "      <td>2301.810059</td>\n",
       "      <td>2301.810059</td>\n",
       "      <td>2308150000</td>\n",
       "    </tr>\n",
       "    <tr>\n",
       "      <th>2006-01-20</th>\n",
       "      <td>2300.360107</td>\n",
       "      <td>2300.729980</td>\n",
       "      <td>2245.199951</td>\n",
       "      <td>2247.699951</td>\n",
       "      <td>2247.699951</td>\n",
       "      <td>2348140000</td>\n",
       "    </tr>\n",
       "    <tr>\n",
       "      <th>2006-01-23</th>\n",
       "      <td>2255.310059</td>\n",
       "      <td>2256.239990</td>\n",
       "      <td>2241.020020</td>\n",
       "      <td>2248.469971</td>\n",
       "      <td>2248.469971</td>\n",
       "      <td>1902480000</td>\n",
       "    </tr>\n",
       "    <tr>\n",
       "      <th>2006-01-24</th>\n",
       "      <td>2256.129883</td>\n",
       "      <td>2269.439941</td>\n",
       "      <td>2256.030029</td>\n",
       "      <td>2265.250000</td>\n",
       "      <td>2265.250000</td>\n",
       "      <td>2067470000</td>\n",
       "    </tr>\n",
       "    <tr>\n",
       "      <th>2006-01-25</th>\n",
       "      <td>2275.300049</td>\n",
       "      <td>2275.300049</td>\n",
       "      <td>2253.060059</td>\n",
       "      <td>2260.649902</td>\n",
       "      <td>2260.649902</td>\n",
       "      <td>2188120000</td>\n",
       "    </tr>\n",
       "    <tr>\n",
       "      <th>2006-01-26</th>\n",
       "      <td>2274.850098</td>\n",
       "      <td>2284.070068</td>\n",
       "      <td>2264.850098</td>\n",
       "      <td>2283.000000</td>\n",
       "      <td>2283.000000</td>\n",
       "      <td>2404920000</td>\n",
       "    </tr>\n",
       "    <tr>\n",
       "      <th>2006-01-27</th>\n",
       "      <td>2293.370117</td>\n",
       "      <td>2314.360107</td>\n",
       "      <td>2289.469971</td>\n",
       "      <td>2304.229980</td>\n",
       "      <td>2304.229980</td>\n",
       "      <td>2331690000</td>\n",
       "    </tr>\n",
       "    <tr>\n",
       "      <th>2006-01-30</th>\n",
       "      <td>2306.239990</td>\n",
       "      <td>2313.979980</td>\n",
       "      <td>2304.750000</td>\n",
       "      <td>2306.780029</td>\n",
       "      <td>2306.780029</td>\n",
       "      <td>1900730000</td>\n",
       "    </tr>\n",
       "    <tr>\n",
       "      <th>2006-01-31</th>\n",
       "      <td>2305.820068</td>\n",
       "      <td>2311.830078</td>\n",
       "      <td>2292.949951</td>\n",
       "      <td>2305.820068</td>\n",
       "      <td>2305.820068</td>\n",
       "      <td>2235900000</td>\n",
       "    </tr>\n",
       "    <tr>\n",
       "      <th>2006-02-01</th>\n",
       "      <td>2294.110107</td>\n",
       "      <td>2311.570068</td>\n",
       "      <td>2292.229980</td>\n",
       "      <td>2310.560059</td>\n",
       "      <td>2310.560059</td>\n",
       "      <td>2274610000</td>\n",
       "    </tr>\n",
       "    <tr>\n",
       "      <th>2006-02-02</th>\n",
       "      <td>2306.570068</td>\n",
       "      <td>2308.050049</td>\n",
       "      <td>2277.300049</td>\n",
       "      <td>2281.570068</td>\n",
       "      <td>2281.570068</td>\n",
       "      <td>2307830000</td>\n",
       "    </tr>\n",
       "    <tr>\n",
       "      <th>2006-02-03</th>\n",
       "      <td>2268.429932</td>\n",
       "      <td>2274.620117</td>\n",
       "      <td>2255.989990</td>\n",
       "      <td>2262.580078</td>\n",
       "      <td>2262.580078</td>\n",
       "      <td>2230020000</td>\n",
       "    </tr>\n",
       "    <tr>\n",
       "      <th>2006-02-06</th>\n",
       "      <td>2263.120117</td>\n",
       "      <td>2265.810059</td>\n",
       "      <td>2249.750000</td>\n",
       "      <td>2258.800049</td>\n",
       "      <td>2258.800049</td>\n",
       "      <td>1769530000</td>\n",
       "    </tr>\n",
       "    <tr>\n",
       "      <th>2006-02-07</th>\n",
       "      <td>2255.939941</td>\n",
       "      <td>2265.540039</td>\n",
       "      <td>2239.510010</td>\n",
       "      <td>2244.959961</td>\n",
       "      <td>2244.959961</td>\n",
       "      <td>2117180000</td>\n",
       "    </tr>\n",
       "    <tr>\n",
       "      <th>2006-02-08</th>\n",
       "      <td>2260.219971</td>\n",
       "      <td>2268.719971</td>\n",
       "      <td>2246.979980</td>\n",
       "      <td>2266.979980</td>\n",
       "      <td>2266.979980</td>\n",
       "      <td>2181770000</td>\n",
       "    </tr>\n",
       "    <tr>\n",
       "      <th>2006-02-09</th>\n",
       "      <td>2273.770020</td>\n",
       "      <td>2284.520020</td>\n",
       "      <td>2254.260010</td>\n",
       "      <td>2255.870117</td>\n",
       "      <td>2255.870117</td>\n",
       "      <td>2321310000</td>\n",
       "    </tr>\n",
       "    <tr>\n",
       "      <th>2006-02-10</th>\n",
       "      <td>2255.770020</td>\n",
       "      <td>2266.439941</td>\n",
       "      <td>2235.409912</td>\n",
       "      <td>2261.879883</td>\n",
       "      <td>2261.879883</td>\n",
       "      <td>2017730000</td>\n",
       "    </tr>\n",
       "    <tr>\n",
       "      <th>2006-02-13</th>\n",
       "      <td>2252.040039</td>\n",
       "      <td>2254.310059</td>\n",
       "      <td>2232.679932</td>\n",
       "      <td>2239.810059</td>\n",
       "      <td>2239.810059</td>\n",
       "      <td>1662000000</td>\n",
       "    </tr>\n",
       "    <tr>\n",
       "      <th>2006-02-14</th>\n",
       "      <td>2243.540039</td>\n",
       "      <td>2266.820068</td>\n",
       "      <td>2237.469971</td>\n",
       "      <td>2262.169922</td>\n",
       "      <td>2262.169922</td>\n",
       "      <td>1805300000</td>\n",
       "    </tr>\n",
       "    <tr>\n",
       "      <th>...</th>\n",
       "      <td>...</td>\n",
       "      <td>...</td>\n",
       "      <td>...</td>\n",
       "      <td>...</td>\n",
       "      <td>...</td>\n",
       "      <td>...</td>\n",
       "    </tr>\n",
       "    <tr>\n",
       "      <th>2015-11-18</th>\n",
       "      <td>5004.600098</td>\n",
       "      <td>5078.799805</td>\n",
       "      <td>5001.669922</td>\n",
       "      <td>5075.200195</td>\n",
       "      <td>5075.200195</td>\n",
       "      <td>2017390000</td>\n",
       "    </tr>\n",
       "    <tr>\n",
       "      <th>2015-11-19</th>\n",
       "      <td>5078.669922</td>\n",
       "      <td>5092.459961</td>\n",
       "      <td>5067.270020</td>\n",
       "      <td>5073.640137</td>\n",
       "      <td>5073.640137</td>\n",
       "      <td>1794110000</td>\n",
       "    </tr>\n",
       "    <tr>\n",
       "      <th>2015-11-20</th>\n",
       "      <td>5096.959961</td>\n",
       "      <td>5112.459961</td>\n",
       "      <td>5094.319824</td>\n",
       "      <td>5104.919922</td>\n",
       "      <td>5104.919922</td>\n",
       "      <td>1766630000</td>\n",
       "    </tr>\n",
       "    <tr>\n",
       "      <th>2015-11-23</th>\n",
       "      <td>5106.720215</td>\n",
       "      <td>5128.080078</td>\n",
       "      <td>5084.850098</td>\n",
       "      <td>5102.479980</td>\n",
       "      <td>5102.479980</td>\n",
       "      <td>1668280000</td>\n",
       "    </tr>\n",
       "    <tr>\n",
       "      <th>2015-11-24</th>\n",
       "      <td>5070.660156</td>\n",
       "      <td>5110.750000</td>\n",
       "      <td>5050.140137</td>\n",
       "      <td>5102.810059</td>\n",
       "      <td>5102.810059</td>\n",
       "      <td>1956920000</td>\n",
       "    </tr>\n",
       "    <tr>\n",
       "      <th>2015-11-25</th>\n",
       "      <td>5106.870117</td>\n",
       "      <td>5124.089844</td>\n",
       "      <td>5101.180176</td>\n",
       "      <td>5116.140137</td>\n",
       "      <td>5116.140137</td>\n",
       "      <td>1539300000</td>\n",
       "    </tr>\n",
       "    <tr>\n",
       "      <th>2015-11-27</th>\n",
       "      <td>5121.930176</td>\n",
       "      <td>5134.350098</td>\n",
       "      <td>5108.509766</td>\n",
       "      <td>5127.520020</td>\n",
       "      <td>5127.520020</td>\n",
       "      <td>781730000</td>\n",
       "    </tr>\n",
       "    <tr>\n",
       "      <th>2015-11-30</th>\n",
       "      <td>5139.580078</td>\n",
       "      <td>5141.359863</td>\n",
       "      <td>5098.700195</td>\n",
       "      <td>5108.669922</td>\n",
       "      <td>5108.669922</td>\n",
       "      <td>2244550000</td>\n",
       "    </tr>\n",
       "    <tr>\n",
       "      <th>2015-12-01</th>\n",
       "      <td>5129.640137</td>\n",
       "      <td>5156.310059</td>\n",
       "      <td>5120.169922</td>\n",
       "      <td>5156.310059</td>\n",
       "      <td>5156.310059</td>\n",
       "      <td>2035570000</td>\n",
       "    </tr>\n",
       "    <tr>\n",
       "      <th>2015-12-02</th>\n",
       "      <td>5158.819824</td>\n",
       "      <td>5176.770020</td>\n",
       "      <td>5117.149902</td>\n",
       "      <td>5123.220215</td>\n",
       "      <td>5123.220215</td>\n",
       "      <td>2060340000</td>\n",
       "    </tr>\n",
       "    <tr>\n",
       "      <th>2015-12-03</th>\n",
       "      <td>5143.160156</td>\n",
       "      <td>5144.600098</td>\n",
       "      <td>5011.720215</td>\n",
       "      <td>5037.529785</td>\n",
       "      <td>5037.529785</td>\n",
       "      <td>2088100000</td>\n",
       "    </tr>\n",
       "    <tr>\n",
       "      <th>2015-12-04</th>\n",
       "      <td>5050.930176</td>\n",
       "      <td>5147.000000</td>\n",
       "      <td>5043.490234</td>\n",
       "      <td>5142.270020</td>\n",
       "      <td>5142.270020</td>\n",
       "      <td>1897490000</td>\n",
       "    </tr>\n",
       "    <tr>\n",
       "      <th>2015-12-07</th>\n",
       "      <td>5139.459961</td>\n",
       "      <td>5139.779785</td>\n",
       "      <td>5082.229980</td>\n",
       "      <td>5101.810059</td>\n",
       "      <td>5101.810059</td>\n",
       "      <td>1952690000</td>\n",
       "    </tr>\n",
       "    <tr>\n",
       "      <th>2015-12-08</th>\n",
       "      <td>5050.520020</td>\n",
       "      <td>5111.729980</td>\n",
       "      <td>5045.729980</td>\n",
       "      <td>5098.240234</td>\n",
       "      <td>5098.240234</td>\n",
       "      <td>1871450000</td>\n",
       "    </tr>\n",
       "    <tr>\n",
       "      <th>2015-12-09</th>\n",
       "      <td>5077.209961</td>\n",
       "      <td>5106.370117</td>\n",
       "      <td>5000.120117</td>\n",
       "      <td>5022.870117</td>\n",
       "      <td>5022.870117</td>\n",
       "      <td>2003450000</td>\n",
       "    </tr>\n",
       "    <tr>\n",
       "      <th>2015-12-10</th>\n",
       "      <td>5026.299805</td>\n",
       "      <td>5075.649902</td>\n",
       "      <td>5019.310059</td>\n",
       "      <td>5045.169922</td>\n",
       "      <td>5045.169922</td>\n",
       "      <td>1746520000</td>\n",
       "    </tr>\n",
       "    <tr>\n",
       "      <th>2015-12-11</th>\n",
       "      <td>4979.770020</td>\n",
       "      <td>4996.189941</td>\n",
       "      <td>4928.669922</td>\n",
       "      <td>4933.470215</td>\n",
       "      <td>4933.470215</td>\n",
       "      <td>2084950000</td>\n",
       "    </tr>\n",
       "    <tr>\n",
       "      <th>2015-12-14</th>\n",
       "      <td>4932.609863</td>\n",
       "      <td>4953.600098</td>\n",
       "      <td>4871.589844</td>\n",
       "      <td>4952.229980</td>\n",
       "      <td>4952.229980</td>\n",
       "      <td>2216060000</td>\n",
       "    </tr>\n",
       "    <tr>\n",
       "      <th>2015-12-15</th>\n",
       "      <td>4991.209961</td>\n",
       "      <td>5026.540039</td>\n",
       "      <td>4986.990234</td>\n",
       "      <td>4995.359863</td>\n",
       "      <td>4995.359863</td>\n",
       "      <td>2054710000</td>\n",
       "    </tr>\n",
       "    <tr>\n",
       "      <th>2015-12-16</th>\n",
       "      <td>5033.479980</td>\n",
       "      <td>5078.990234</td>\n",
       "      <td>4992.629883</td>\n",
       "      <td>5071.129883</td>\n",
       "      <td>5071.129883</td>\n",
       "      <td>2036610000</td>\n",
       "    </tr>\n",
       "    <tr>\n",
       "      <th>2015-12-17</th>\n",
       "      <td>5087.169922</td>\n",
       "      <td>5088.580078</td>\n",
       "      <td>5002.549805</td>\n",
       "      <td>5002.549805</td>\n",
       "      <td>5002.549805</td>\n",
       "      <td>1897220000</td>\n",
       "    </tr>\n",
       "    <tr>\n",
       "      <th>2015-12-18</th>\n",
       "      <td>4982.580078</td>\n",
       "      <td>4996.490234</td>\n",
       "      <td>4921.330078</td>\n",
       "      <td>4923.080078</td>\n",
       "      <td>4923.080078</td>\n",
       "      <td>3765210000</td>\n",
       "    </tr>\n",
       "    <tr>\n",
       "      <th>2015-12-21</th>\n",
       "      <td>4957.529785</td>\n",
       "      <td>4968.919922</td>\n",
       "      <td>4928.930176</td>\n",
       "      <td>4968.919922</td>\n",
       "      <td>4968.919922</td>\n",
       "      <td>1673400000</td>\n",
       "    </tr>\n",
       "    <tr>\n",
       "      <th>2015-12-22</th>\n",
       "      <td>4988.680176</td>\n",
       "      <td>5007.770020</td>\n",
       "      <td>4964.080078</td>\n",
       "      <td>5001.109863</td>\n",
       "      <td>5001.109863</td>\n",
       "      <td>1556670000</td>\n",
       "    </tr>\n",
       "    <tr>\n",
       "      <th>2015-12-23</th>\n",
       "      <td>5025.549805</td>\n",
       "      <td>5046.089844</td>\n",
       "      <td>5020.439941</td>\n",
       "      <td>5045.930176</td>\n",
       "      <td>5045.930176</td>\n",
       "      <td>1591490000</td>\n",
       "    </tr>\n",
       "    <tr>\n",
       "      <th>2015-12-24</th>\n",
       "      <td>5046.189941</td>\n",
       "      <td>5063.279785</td>\n",
       "      <td>5043.649902</td>\n",
       "      <td>5048.490234</td>\n",
       "      <td>5048.490234</td>\n",
       "      <td>706880000</td>\n",
       "    </tr>\n",
       "    <tr>\n",
       "      <th>2015-12-28</th>\n",
       "      <td>5032.290039</td>\n",
       "      <td>5041.270020</td>\n",
       "      <td>4999.069824</td>\n",
       "      <td>5040.990234</td>\n",
       "      <td>5040.990234</td>\n",
       "      <td>1310650000</td>\n",
       "    </tr>\n",
       "    <tr>\n",
       "      <th>2015-12-29</th>\n",
       "      <td>5066.520020</td>\n",
       "      <td>5116.990234</td>\n",
       "      <td>5065.890137</td>\n",
       "      <td>5107.939941</td>\n",
       "      <td>5107.939941</td>\n",
       "      <td>1383470000</td>\n",
       "    </tr>\n",
       "    <tr>\n",
       "      <th>2015-12-30</th>\n",
       "      <td>5101.180176</td>\n",
       "      <td>5102.350098</td>\n",
       "      <td>5065.680176</td>\n",
       "      <td>5065.850098</td>\n",
       "      <td>5065.850098</td>\n",
       "      <td>1247530000</td>\n",
       "    </tr>\n",
       "    <tr>\n",
       "      <th>2015-12-31</th>\n",
       "      <td>5047.040039</td>\n",
       "      <td>5058.060059</td>\n",
       "      <td>5007.009766</td>\n",
       "      <td>5007.410156</td>\n",
       "      <td>5007.410156</td>\n",
       "      <td>1437480000</td>\n",
       "    </tr>\n",
       "  </tbody>\n",
       "</table>\n",
       "<p>2517 rows × 6 columns</p>\n",
       "</div>"
      ],
      "text/plain": [
       "                   Open         High          Low        Close    Adj Close  \\\n",
       "Date                                                                          \n",
       "2006-01-03  2216.530029  2249.679932  2189.909912  2243.739990  2243.739990   \n",
       "2006-01-04  2246.959961  2265.280029  2246.070068  2263.459961  2263.459961   \n",
       "2006-01-05  2264.929932  2277.560059  2264.500000  2276.870117  2276.870117   \n",
       "2006-01-06  2289.209961  2306.719971  2281.010010  2305.620117  2305.620117   \n",
       "2006-01-09  2306.179932  2322.629883  2303.129883  2318.689941  2318.689941   \n",
       "2006-01-10  2306.219971  2320.320068  2303.929932  2320.320068  2320.320068   \n",
       "2006-01-11  2321.409912  2332.919922  2316.489990  2331.360107  2331.360107   \n",
       "2006-01-12  2327.169922  2330.310059  2313.219971  2316.689941  2316.689941   \n",
       "2006-01-13  2317.739990  2321.699951  2308.159912  2317.040039  2317.040039   \n",
       "2006-01-17  2302.560059  2305.870117  2294.050049  2302.689941  2302.689941   \n",
       "2006-01-18  2265.500000  2285.939941  2264.080078  2279.639893  2279.639893   \n",
       "2006-01-19  2291.689941  2311.709961  2289.820068  2301.810059  2301.810059   \n",
       "2006-01-20  2300.360107  2300.729980  2245.199951  2247.699951  2247.699951   \n",
       "2006-01-23  2255.310059  2256.239990  2241.020020  2248.469971  2248.469971   \n",
       "2006-01-24  2256.129883  2269.439941  2256.030029  2265.250000  2265.250000   \n",
       "2006-01-25  2275.300049  2275.300049  2253.060059  2260.649902  2260.649902   \n",
       "2006-01-26  2274.850098  2284.070068  2264.850098  2283.000000  2283.000000   \n",
       "2006-01-27  2293.370117  2314.360107  2289.469971  2304.229980  2304.229980   \n",
       "2006-01-30  2306.239990  2313.979980  2304.750000  2306.780029  2306.780029   \n",
       "2006-01-31  2305.820068  2311.830078  2292.949951  2305.820068  2305.820068   \n",
       "2006-02-01  2294.110107  2311.570068  2292.229980  2310.560059  2310.560059   \n",
       "2006-02-02  2306.570068  2308.050049  2277.300049  2281.570068  2281.570068   \n",
       "2006-02-03  2268.429932  2274.620117  2255.989990  2262.580078  2262.580078   \n",
       "2006-02-06  2263.120117  2265.810059  2249.750000  2258.800049  2258.800049   \n",
       "2006-02-07  2255.939941  2265.540039  2239.510010  2244.959961  2244.959961   \n",
       "2006-02-08  2260.219971  2268.719971  2246.979980  2266.979980  2266.979980   \n",
       "2006-02-09  2273.770020  2284.520020  2254.260010  2255.870117  2255.870117   \n",
       "2006-02-10  2255.770020  2266.439941  2235.409912  2261.879883  2261.879883   \n",
       "2006-02-13  2252.040039  2254.310059  2232.679932  2239.810059  2239.810059   \n",
       "2006-02-14  2243.540039  2266.820068  2237.469971  2262.169922  2262.169922   \n",
       "...                 ...          ...          ...          ...          ...   \n",
       "2015-11-18  5004.600098  5078.799805  5001.669922  5075.200195  5075.200195   \n",
       "2015-11-19  5078.669922  5092.459961  5067.270020  5073.640137  5073.640137   \n",
       "2015-11-20  5096.959961  5112.459961  5094.319824  5104.919922  5104.919922   \n",
       "2015-11-23  5106.720215  5128.080078  5084.850098  5102.479980  5102.479980   \n",
       "2015-11-24  5070.660156  5110.750000  5050.140137  5102.810059  5102.810059   \n",
       "2015-11-25  5106.870117  5124.089844  5101.180176  5116.140137  5116.140137   \n",
       "2015-11-27  5121.930176  5134.350098  5108.509766  5127.520020  5127.520020   \n",
       "2015-11-30  5139.580078  5141.359863  5098.700195  5108.669922  5108.669922   \n",
       "2015-12-01  5129.640137  5156.310059  5120.169922  5156.310059  5156.310059   \n",
       "2015-12-02  5158.819824  5176.770020  5117.149902  5123.220215  5123.220215   \n",
       "2015-12-03  5143.160156  5144.600098  5011.720215  5037.529785  5037.529785   \n",
       "2015-12-04  5050.930176  5147.000000  5043.490234  5142.270020  5142.270020   \n",
       "2015-12-07  5139.459961  5139.779785  5082.229980  5101.810059  5101.810059   \n",
       "2015-12-08  5050.520020  5111.729980  5045.729980  5098.240234  5098.240234   \n",
       "2015-12-09  5077.209961  5106.370117  5000.120117  5022.870117  5022.870117   \n",
       "2015-12-10  5026.299805  5075.649902  5019.310059  5045.169922  5045.169922   \n",
       "2015-12-11  4979.770020  4996.189941  4928.669922  4933.470215  4933.470215   \n",
       "2015-12-14  4932.609863  4953.600098  4871.589844  4952.229980  4952.229980   \n",
       "2015-12-15  4991.209961  5026.540039  4986.990234  4995.359863  4995.359863   \n",
       "2015-12-16  5033.479980  5078.990234  4992.629883  5071.129883  5071.129883   \n",
       "2015-12-17  5087.169922  5088.580078  5002.549805  5002.549805  5002.549805   \n",
       "2015-12-18  4982.580078  4996.490234  4921.330078  4923.080078  4923.080078   \n",
       "2015-12-21  4957.529785  4968.919922  4928.930176  4968.919922  4968.919922   \n",
       "2015-12-22  4988.680176  5007.770020  4964.080078  5001.109863  5001.109863   \n",
       "2015-12-23  5025.549805  5046.089844  5020.439941  5045.930176  5045.930176   \n",
       "2015-12-24  5046.189941  5063.279785  5043.649902  5048.490234  5048.490234   \n",
       "2015-12-28  5032.290039  5041.270020  4999.069824  5040.990234  5040.990234   \n",
       "2015-12-29  5066.520020  5116.990234  5065.890137  5107.939941  5107.939941   \n",
       "2015-12-30  5101.180176  5102.350098  5065.680176  5065.850098  5065.850098   \n",
       "2015-12-31  5047.040039  5058.060059  5007.009766  5007.410156  5007.410156   \n",
       "\n",
       "                Volume  \n",
       "Date                    \n",
       "2006-01-03  1998300000  \n",
       "2006-01-04  1887560000  \n",
       "2006-01-05  1891750000  \n",
       "2006-01-06  2233640000  \n",
       "2006-01-09  1949140000  \n",
       "2006-01-10  1978160000  \n",
       "2006-01-11  2380600000  \n",
       "2006-01-12  2011460000  \n",
       "2006-01-13  1784410000  \n",
       "2006-01-17  1702260000  \n",
       "2006-01-18  2276900000  \n",
       "2006-01-19  2308150000  \n",
       "2006-01-20  2348140000  \n",
       "2006-01-23  1902480000  \n",
       "2006-01-24  2067470000  \n",
       "2006-01-25  2188120000  \n",
       "2006-01-26  2404920000  \n",
       "2006-01-27  2331690000  \n",
       "2006-01-30  1900730000  \n",
       "2006-01-31  2235900000  \n",
       "2006-02-01  2274610000  \n",
       "2006-02-02  2307830000  \n",
       "2006-02-03  2230020000  \n",
       "2006-02-06  1769530000  \n",
       "2006-02-07  2117180000  \n",
       "2006-02-08  2181770000  \n",
       "2006-02-09  2321310000  \n",
       "2006-02-10  2017730000  \n",
       "2006-02-13  1662000000  \n",
       "2006-02-14  1805300000  \n",
       "...                ...  \n",
       "2015-11-18  2017390000  \n",
       "2015-11-19  1794110000  \n",
       "2015-11-20  1766630000  \n",
       "2015-11-23  1668280000  \n",
       "2015-11-24  1956920000  \n",
       "2015-11-25  1539300000  \n",
       "2015-11-27   781730000  \n",
       "2015-11-30  2244550000  \n",
       "2015-12-01  2035570000  \n",
       "2015-12-02  2060340000  \n",
       "2015-12-03  2088100000  \n",
       "2015-12-04  1897490000  \n",
       "2015-12-07  1952690000  \n",
       "2015-12-08  1871450000  \n",
       "2015-12-09  2003450000  \n",
       "2015-12-10  1746520000  \n",
       "2015-12-11  2084950000  \n",
       "2015-12-14  2216060000  \n",
       "2015-12-15  2054710000  \n",
       "2015-12-16  2036610000  \n",
       "2015-12-17  1897220000  \n",
       "2015-12-18  3765210000  \n",
       "2015-12-21  1673400000  \n",
       "2015-12-22  1556670000  \n",
       "2015-12-23  1591490000  \n",
       "2015-12-24   706880000  \n",
       "2015-12-28  1310650000  \n",
       "2015-12-29  1383470000  \n",
       "2015-12-30  1247530000  \n",
       "2015-12-31  1437480000  \n",
       "\n",
       "[2517 rows x 6 columns]"
      ]
     },
     "execution_count": 41,
     "metadata": {},
     "output_type": "execute_result"
    }
   ],
   "source": [
    "nasdaq_all"
   ]
  },
  {
   "cell_type": "markdown",
   "metadata": {},
   "source": [
    "### Plot Your Data (If You Can)"
   ]
  },
  {
   "cell_type": "code",
   "execution_count": 42,
   "metadata": {},
   "outputs": [
    {
     "data": {
      "text/plain": [
       "<matplotlib.text.Text at 0x126342be0>"
      ]
     },
     "execution_count": 42,
     "metadata": {},
     "output_type": "execute_result"
    },
    {
     "data": {
      "image/png": "[encoded data removed]",
      "text/plain": [
       "<matplotlib.figure.Figure at 0x126335ac8>"
      ]
     },
     "metadata": {},
     "output_type": "display_data"
    }
   ],
   "source": [
    "plt.figure(figsize = (8,8))\n",
    "aapl.plot(color='blue')\n",
    "plt.title('10 Years of AAPL ($/Share)', fontsize=20)"
   ]
  },
  {
   "cell_type": "code",
   "execution_count": 43,
   "metadata": {},
   "outputs": [
    {
     "data": {
      "text/plain": [
       "<matplotlib.text.Text at 0x123db1898>"
      ]
     },
     "execution_count": 43,
     "metadata": {},
     "output_type": "execute_result"
    },
    {
     "data": {
      "image/png": "[encoded data removed]",
      "text/plain": [
       "<matplotlib.figure.Figure at 0x123d7aa58>"
      ]
     },
     "metadata": {},
     "output_type": "display_data"
    }
   ],
   "source": [
    "plt.figure(figsize = (8,8))\n",
    "nasdaq.plot(color='blue')\n",
    "plt.title('10 Years of NASDAQ Index', fontsize=20)"
   ]
  },
  {
   "cell_type": "code",
   "execution_count": 44,
   "metadata": {
    "collapsed": true
   },
   "outputs": [],
   "source": [
    "# Calculate daily returns.\n",
    "\n",
    "aapl_returns = np.log(aapl / aapl.shift(1))\n",
    "nasdaq_returns = np.log(nasdaq / nasdaq.shift(1))\n",
    "aapl_returns = aapl_returns.dropna()\n",
    "nasdaq_returns = nasdaq_returns.dropna()"
   ]
  },
  {
   "cell_type": "code",
   "execution_count": 45,
   "metadata": {},
   "outputs": [
    {
     "data": {
      "text/plain": [
       "(0, 50)"
      ]
     },
     "execution_count": 45,
     "metadata": {},
     "output_type": "execute_result"
    },
    {
     "data": {
      "image/png": "[encoded data removed]",
      "text/plain": [
       "<matplotlib.figure.Figure at 0x1263350b8>"
      ]
     },
     "metadata": {},
     "output_type": "display_data"
    }
   ],
   "source": [
    "plt.figure(figsize=(8,8))\n",
    "plt.hist(aapl_returns, bins=150, normed=True, color='blue')\n",
    "plt.title('Histogram of AAPL Daily Returns', fontsize=20)\n",
    "plt.ylabel('%', fontsize=8)\n",
    "plt.axvline(0, color='red')\n",
    "plt.xlim(-0.2, 0.2)\n",
    "plt.ylim(0, 50)"
   ]
  },
  {
   "cell_type": "code",
   "execution_count": 46,
   "metadata": {},
   "outputs": [
    {
     "data": {
      "text/plain": [
       "(0, 50)"
      ]
     },
     "execution_count": 46,
     "metadata": {},
     "output_type": "execute_result"
    },
    {
     "data": {
      "image/png": "[encoded data removed]",
      "text/plain": [
       "<matplotlib.figure.Figure at 0x1242a00f0>"
      ]
     },
     "metadata": {},
     "output_type": "display_data"
    }
   ],
   "source": [
    "plt.figure(figsize=(8,8))\n",
    "plt.hist(nasdaq_returns, bins=150, normed=True, color='blue')\n",
    "plt.title('Histogram of NASDAQ Daily Returns', fontsize=20)\n",
    "plt.ylabel('%', fontsize=8)\n",
    "plt.axvline(0, color='red')\n",
    "plt.xlim(-0.2, 0.2)\n",
    "plt.ylim(0, 50)"
   ]
  },
  {
   "cell_type": "code",
   "execution_count": 47,
   "metadata": {
    "collapsed": true
   },
   "outputs": [],
   "source": [
    "aapl_returns = pd.DataFrame(aapl_returns)\n",
    "nasdaq_returns = pd.DataFrame(nasdaq_returns)"
   ]
  },
  {
   "cell_type": "code",
   "execution_count": 48,
   "metadata": {},
   "outputs": [
    {
     "name": "stdout",
     "output_type": "stream",
     "text": [
      "         Adj Close\n",
      "count  2516.000000\n",
      "mean      0.000938\n",
      "std       0.021618\n",
      "min      -0.197470\n",
      "25%      -0.009446\n",
      "50%       0.000897\n",
      "75%       0.012243\n",
      "max       0.130194\n",
      "         Adj Close\n",
      "count  2516.000000\n",
      "mean      0.000319\n",
      "std       0.013934\n",
      "min      -0.095877\n",
      "25%      -0.005501\n",
      "50%       0.000957\n",
      "75%       0.006919\n",
      "max       0.111594\n"
     ]
    }
   ],
   "source": [
    "print(aapl_returns.describe())\n",
    "print(nasdaq_returns.describe())"
   ]
  },
  {
   "cell_type": "code",
   "execution_count": 49,
   "metadata": {},
   "outputs": [
    {
     "data": {
      "text/plain": [
       "(-0.2, 0.2)"
      ]
     },
     "execution_count": 49,
     "metadata": {},
     "output_type": "execute_result"
    },
    {
     "data": {
      "image/png": "[encoded data removed]",
      "text/plain": [
       "<matplotlib.figure.Figure at 0x123e21518>"
      ]
     },
     "metadata": {},
     "output_type": "display_data"
    }
   ],
   "source": [
    "plt.figure(figsize = (8,8))\n",
    "plt.scatter(aapl_returns, nasdaq_returns, color='blue')\n",
    "plt.title('CAPM Data', fontsize = 20)\n",
    "plt.xlabel('Log Returns of NASDAQ', fontsize = 10)\n",
    "plt.ylabel('Log Returns of AAPL', fontsize = 10)\n",
    "plt.xlim([-0.2, 0.2])\n",
    "plt.ylim([-0.2, 0.2])"
   ]
  },
  {
   "cell_type": "markdown",
   "metadata": {},
   "source": [
    "### Frequentist approach \n",
    "* Use regression to conduct Neyman-Pearson hypothesis testing.\n",
    "* Easy to do and covered in earlier lectures.\n",
    "\n",
    "### Let's do two different things\n",
    "* Bayesian approach to inference (for fun).\n",
    "* Predicting returns using deep learning."
   ]
  },
  {
   "cell_type": "markdown",
   "metadata": {},
   "source": [
    "## 1.1. Bayesian CAPM"
   ]
  },
  {
   "cell_type": "code",
   "execution_count": 50,
   "metadata": {},
   "outputs": [
    {
     "name": "stdout",
     "output_type": "stream",
     "text": [
      "Optimization terminated successfully.\n",
      "         Current function value: -6777.261138\n",
      "         Iterations: 13\n",
      "         Function evaluations: 28\n",
      "         Gradient evaluations: 28\n"
     ]
    },
    {
     "name": "stderr",
     "output_type": "stream",
     "text": [
      "100%|██████████| 1000/1000 [00:46<00:00, 21.54it/s]\n"
     ]
    }
   ],
   "source": [
    "# This is the syntax for PyMC3, \n",
    "# the Python library that allows one to do canned Bayesian estimation.\n",
    "# See https://pymc-devs.github.io/pymc3/getting_started/.\n",
    "# If you were to use this with different returns data,\n",
    "# just replace 'nasdaq_returns' with the returns to the market\n",
    "# and 'aapl_returns' with the returns to the particular stock\n",
    "\n",
    "with pm.Model() as model:\n",
    "    \n",
    "    # alpha, beta, and sigma are the hyperparameters over which we have our priors, in this case they are flat priors.    \n",
    "    alpha = pm.Normal('alpha', mu=0, sd=20)\n",
    "    beta = pm.Normal('beta', mu=0, sd=20)\n",
    "    sigma = pm.Uniform('sigma', lower=0, upper=10)\n",
    "    \n",
    "    # y_est is the specification of the Bayesian model to be estimated.  It is simply our CAPM.\n",
    "    y_est = alpha + beta * nasdaq_returns\n",
    "    \n",
    "    # likelihood is the likelihood function, here it is normal to be used with conjugate priors.    \n",
    "    likelihood = pm.Normal('y', mu=y_est, sd=sigma, observed=aapl_returns)\n",
    "    \n",
    "    # We use the Maximum a Posteriori (MAP) values as starting values for the MCMC sampling.\n",
    "    start = pm.find_MAP()\n",
    "    step = pm.NUTS(state=start)\n",
    "    trace = pm.sample(1000, step, start=start, progressbar=True)"
   ]
  },
  {
   "cell_type": "code",
   "execution_count": 51,
   "metadata": {},
   "outputs": [
    {
     "data": {
      "text/plain": [
       "<matplotlib.figure.Figure at 0x12b9cd0b8>"
      ]
     },
     "execution_count": 51,
     "metadata": {},
     "output_type": "execute_result"
    },
    {
     "data": {
      "image/png": "[encoded data removed]",
      "text/plain": [
       "<matplotlib.figure.Figure at 0x12b9cd048>"
      ]
     },
     "metadata": {},
     "output_type": "display_data"
    },
    {
     "data": {
      "text/plain": [
       "<matplotlib.figure.Figure at 0x12b9cd0b8>"
      ]
     },
     "metadata": {},
     "output_type": "display_data"
    }
   ],
   "source": [
    "# Plot the posteriors.\n",
    "# I prefer R's approach to this, which uses histograms rather than smoothed density plots.\n",
    "\n",
    "fig = pm.traceplot(trace[199:1000], lines={'alpha': 0, 'beta': 1})\n",
    "plt.figure(figsize = (8, 8))"
   ]
  },
  {
   "cell_type": "code",
   "execution_count": 52,
   "metadata": {},
   "outputs": [
    {
     "name": "stdout",
     "output_type": "stream",
     "text": [
      "Average alpha and its 95% credible interval are: 0.000598975160247 [ -1.22122275e-05   1.26603943e-03]\n",
      "Average beta and its 95% credible interval are: 1.02135599747 [ 0.97203191  1.06517409]\n",
      "\n",
      "The probability that alpha is greater than zero is 0.972534332085\n",
      "The probability that beta is less than one is 0.178526841448\n",
      "The joint probability is 0.169787765293\n"
     ]
    }
   ],
   "source": [
    "# Start with averages and 95% credible intervals.\n",
    "\n",
    "print(\"Average alpha and its 95% credible interval are:\", np.mean(trace['alpha'][199:1000]), np.percentile(trace['alpha'][199:1000], (2.5, 97.5)))\n",
    "print(\"Average beta and its 95% credible interval are:\", np.mean(trace['beta'][199:1000]), np.percentile(trace['beta'][199:1000], (2.5, 97.5)))\n",
    "print()\n",
    "\n",
    "# Test two valuable hypotheses.\n",
    "# alpha > 0\n",
    "# beta < 1\n",
    "# These are key inputs to decision making.\n",
    "\n",
    "print(\"The probability that alpha is greater than zero is\", np.mean(trace['alpha'][199:1000] > 0.0))\n",
    "print(\"The probability that beta is less than one is\", np.mean(trace['beta'][199:1000] < 1.0))\n",
    "print(\"The joint probability is\", np.all([[trace['alpha'][199:1000] > 0.0], [trace['beta'][199:1000] < 1.0]], axis = 0).mean())"
   ]
  },
  {
   "cell_type": "markdown",
   "metadata": {},
   "source": [
    "* Assignment: Change the priors on alpha and beta to U[-1, 1].  How do the results change?  What do you infer about the relevance of priors?"
   ]
  },
  {
   "cell_type": "markdown",
   "metadata": {},
   "source": [
    "## 1.2. Predicting returns using deep learning"
   ]
  },
  {
   "cell_type": "code",
   "execution_count": 84,
   "metadata": {
    "collapsed": true
   },
   "outputs": [],
   "source": [
    "# Do a train/test split of .8/.2\n",
    "\n",
    "from sklearn.model_selection import train_test_split\n",
    "\n",
    "data = pd.merge(nasdaq_returns, aapl_returns, left_index=True, right_index=True)\n",
    "data.rename(columns={'Adj Close_x':'nasdaq', 'Adj Close_y':'aapl'}, inplace=True)\n",
    "datatrain, datatest = train_test_split(data, test_size = 0.25, random_state=10191987)\n",
    "#datatrain, datatest = train_test_split(data, test_size = 0.25)"
   ]
  },
  {
   "cell_type": "code",
   "execution_count": 85,
   "metadata": {
    "collapsed": true
   },
   "outputs": [],
   "source": [
    "# We need a baseline against which to compare the deep learner.  \n",
    "# The most obvious is regression and its prediction or out-of-sample error, the MSE.\n",
    "\n",
    "mod = smf.ols(formula='aapl ~ nasdaq', data = datatrain).fit()\n",
    "#print(mod.summary())\n",
    "datatrain['fitted'] = mod.predict(exog = datatrain)\n",
    "datatest['fitted'] = mod.predict(exog = datatest)\n",
    "#datatrain['fitted'] = mod.predict(exog = datatrain)"
   ]
  },
  {
   "cell_type": "code",
   "execution_count": 86,
   "metadata": {},
   "outputs": [
    {
     "data": {
      "text/plain": [
       "[<matplotlib.lines.Line2D at 0x13e2179e8>]"
      ]
     },
     "execution_count": 86,
     "metadata": {},
     "output_type": "execute_result"
    },
    {
     "data": {
      "image/png": "[encoded data removed]",
      "text/plain": [
       "<matplotlib.figure.Figure at 0x140663390>"
      ]
     },
     "metadata": {},
     "output_type": "display_data"
    }
   ],
   "source": [
    "# Let's plot the out-of-sample predictions and compare with the target values \n",
    "# from the test set, together with a 45 degree line.\n",
    "# A perfect predictor would yield a scatterplot clustered closely on the 45 degree line.\n",
    "# Any values above the line indicate a prediction \"overshoot\".\n",
    "# Any values below the line indicate a prediction \"undershoot\".\n",
    "\n",
    "figure, ax = plt.subplots()\n",
    "plt.scatter(datatest['fitted'], datatest['aapl'], color='blue')\n",
    "plt.title('Out-of-Sample Predicted versus Target', fontsize = 20)\n",
    "plt.xlabel('Target Value', fontsize = 10)\n",
    "plt.ylabel('Predicted Value', fontsize = 10)\n",
    "plt.xlim([-0.2, 0.2])\n",
    "plt.ylim([-0.2, 0.2])\n",
    "plt.plot(ax.get_ylim(), ax.get_ylim(), 'r-')"
   ]
  },
  {
   "cell_type": "code",
   "execution_count": 91,
   "metadata": {},
   "outputs": [
    {
     "name": "stdout",
     "output_type": "stream",
     "text": [
      "The average out-sample AAPL return is -0.000729\n",
      "The average predicted AAPL return is 0.000354\n",
      "The MSE is 0.000253\n"
     ]
    }
   ],
   "source": [
    "# The baseline against which to measure.\n",
    "\n",
    "print('The average out-sample AAPL return is %f' % datatest['aapl'].mean())\n",
    "print('The average predicted AAPL return is %f' % datatest['fitted'].mean())\n",
    "print('The MSE is %f' % ((datatest['aapl'] - datatest['fitted'])**2).mean())"
   ]
  },
  {
   "cell_type": "code",
   "execution_count": 92,
   "metadata": {
    "collapsed": true
   },
   "outputs": [],
   "source": [
    "train_X = datatrain['nasdaq'].as_matrix()\n",
    "train_y = datatrain['aapl'].as_matrix()\n",
    "test_X = datatest['nasdaq'].as_matrix()\n",
    "test_y = datatest['aapl'].as_matrix()\n",
    "\n",
    "#data = aapl_returns.as_matrix()\n",
    "#labels = nasdaq_returns.as_matrix()\n",
    "\n",
    "#print(data.shape, labels.shape)\n",
    "#dim = data.shape[1]\n",
    "dim = 1"
   ]
  },
  {
   "cell_type": "code",
   "execution_count": 93,
   "metadata": {
    "collapsed": true
   },
   "outputs": [],
   "source": [
    "np.random.seed(1492)\n",
    "\n",
    "model = Sequential()\n",
    "model.add(Dense(units=500, activation='relu', input_dim=1))\n",
    "model.add(Dense(units=1000, activation='relu', input_dim=1))\n",
    "model.add(Dense(units=1000, activation='relu', input_dim=1))\n",
    "model.add(Dense(units=500, activation='relu', input_dim=1))\n",
    "model.add(Dense(units=1))\n",
    "\n",
    "# Compile, fit, and generate scores and predicted probabilities.\n",
    "model.compile(loss='mse', optimizer='adam', metrics=['mse'])\n",
    "\n",
    "#model.fit(data, labels, epochs=20, batch_size=100)\n",
    "model.fit(train_X, train_y, epochs=20, batch_size=100, verbose=0)\n",
    "target = model.predict(test_X)\n",
    "datatest['target'] = target"
   ]
  },
  {
   "cell_type": "code",
   "execution_count": 96,
   "metadata": {},
   "outputs": [
    {
     "data": {
      "text/plain": [
       "[<matplotlib.lines.Line2D at 0x145f66710>]"
      ]
     },
     "execution_count": 96,
     "metadata": {},
     "output_type": "execute_result"
    },
    {
     "data": {
      "image/png": "[encoded data removed]",
      "text/plain": [
       "<matplotlib.figure.Figure at 0x141bcd7f0>"
      ]
     },
     "metadata": {},
     "output_type": "display_data"
    }
   ],
   "source": [
    "# Plot the results from the MLP.\n",
    "\n",
    "figure, ax = plt.subplots()\n",
    "plt.scatter(datatest['target'], datatest['aapl'], color='blue')\n",
    "plt.title('Out-of-Sample Predicted versus Target', fontsize = 20)\n",
    "plt.xlabel('Target Value', fontsize = 10)\n",
    "plt.ylabel('Predicted Value', fontsize = 10)\n",
    "plt.xlim([-0.2, 0.2])\n",
    "plt.ylim([-0.2, 0.2])\n",
    "plt.plot(ax.get_ylim(), ax.get_ylim(), 'r-')"
   ]
  },
  {
   "cell_type": "code",
   "execution_count": 97,
   "metadata": {},
   "outputs": [
    {
     "name": "stdout",
     "output_type": "stream",
     "text": [
      "The average out-sample AAPL return is -0.000729\n",
      "The average predicted AAPL return is 0.001046\n",
      "The MSE is 0.000260\n"
     ]
    }
   ],
   "source": [
    "print('The average out-sample AAPL return is %f' % datatest['aapl'].mean())\n",
    "print('The average predicted AAPL return is %f' % datatest['target'].mean())\n",
    "print('The MSE is %f' % ((datatest['aapl'] - datatest['target'])**2).mean())"
   ]
  },
  {
   "cell_type": "markdown",
   "metadata": {},
   "source": [
    "### Interesting to Compare and Discuss"
   ]
  },
  {
   "cell_type": "code",
   "execution_count": 98,
   "metadata": {},
   "outputs": [
    {
     "name": "stdout",
     "output_type": "stream",
     "text": [
      "The average out-sample AAPL return is -0.000729\n",
      "The average predicted AAPL return is 0.000354\n",
      "The MSE is 0.000253\n"
     ]
    }
   ],
   "source": [
    "# Baseline.\n",
    "\n",
    "print('The average out-sample AAPL return is %f' % datatest['aapl'].mean())\n",
    "print('The average predicted AAPL return is %f' % datatest['fitted'].mean())\n",
    "print('The MSE is %f' % ((datatest['aapl'] - datatest['fitted'])**2).mean())"
   ]
  },
  {
   "cell_type": "code",
   "execution_count": 99,
   "metadata": {},
   "outputs": [
    {
     "name": "stdout",
     "output_type": "stream",
     "text": [
      "The average out-sample AAPL return is -0.000729\n",
      "The average predicted AAPL return is 0.001046\n",
      "The MSE is 0.000260\n"
     ]
    }
   ],
   "source": [
    "# MLP.\n",
    "\n",
    "print('The average out-sample AAPL return is %f' % datatest['aapl'].mean())\n",
    "print('The average predicted AAPL return is %f' % datatest['target'].mean())\n",
    "print('The MSE is %f' % ((datatest['aapl'] - datatest['target'])**2).mean())"
   ]
  }
 ],
 "metadata": {
  "anaconda-cloud": {},
  "kernelspec": {
   "display_name": "Python [conda root]",
   "language": "python",
   "name": "conda-root-py"
  },
  "language_info": {
   "codemirror_mode": {
    "name": "ipython",
    "version": 3
   },
   "file_extension": ".py",
   "mimetype": "text/x-python",
   "name": "python",
   "nbconvert_exporter": "python",
   "pygments_lexer": "ipython3",
   "version": "3.5.2"
  }
 },
 "nbformat": 4,
 "nbformat_minor": 2
}
